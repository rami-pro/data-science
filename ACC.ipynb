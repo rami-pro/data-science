{
 "cells": [
  {
   "cell_type": "markdown",
   "id": "0586b81b",
   "metadata": {},
   "source": [
    "## <span style=\"color:rgb(25,25,112)\">Import des bibliotheques</span>\n"
   ]
  },
  {
   "cell_type": "code",
   "execution_count": 1,
   "id": "9db064bc",
   "metadata": {},
   "outputs": [],
   "source": [
    "import pandas as pd\n",
    "import numpy as np\n",
    "import matplotlib.pyplot as plt\n",
    "from sklearn.impute import SimpleImputer\n",
    "from sklearn.preprocessing import StandardScaler\n",
    "from sklearn.metrics import silhouette_score\n",
    "import seaborn as sns\n",
    "%matplotlib inline"
   ]
  },
  {
   "cell_type": "markdown",
   "id": "60b73513",
   "metadata": {},
   "source": [
    "## <span style=\"color:rgb(25,25,112)\">Import du fichier CSV</span>\n"
   ]
  },
  {
   "cell_type": "code",
   "execution_count": 2,
   "id": "35c7244e",
   "metadata": {},
   "outputs": [],
   "source": [
    "df = pd.read_csv('music_genre.csv', header=0)"
   ]
  },
  {
   "cell_type": "markdown",
   "id": "08820db8",
   "metadata": {},
   "source": [
    "**Premières 5 lignes de notre DataFrame**"
   ]
  },
  {
   "cell_type": "code",
   "execution_count": 3,
   "id": "51216900",
   "metadata": {},
   "outputs": [
    {
     "data": {
      "text/html": [
       "<div>\n",
       "<style scoped>\n",
       "    .dataframe tbody tr th:only-of-type {\n",
       "        vertical-align: middle;\n",
       "    }\n",
       "\n",
       "    .dataframe tbody tr th {\n",
       "        vertical-align: top;\n",
       "    }\n",
       "\n",
       "    .dataframe thead th {\n",
       "        text-align: right;\n",
       "    }\n",
       "</style>\n",
       "<table border=\"1\" class=\"dataframe\">\n",
       "  <thead>\n",
       "    <tr style=\"text-align: right;\">\n",
       "      <th></th>\n",
       "      <th>instance_id</th>\n",
       "      <th>artist_name</th>\n",
       "      <th>track_name</th>\n",
       "      <th>popularity</th>\n",
       "      <th>acousticness</th>\n",
       "      <th>danceability</th>\n",
       "      <th>duration_ms</th>\n",
       "      <th>energy</th>\n",
       "      <th>instrumentalness</th>\n",
       "      <th>key</th>\n",
       "      <th>liveness</th>\n",
       "      <th>loudness</th>\n",
       "      <th>mode</th>\n",
       "      <th>speechiness</th>\n",
       "      <th>tempo</th>\n",
       "      <th>obtained_date</th>\n",
       "      <th>valence</th>\n",
       "      <th>music_genre</th>\n",
       "    </tr>\n",
       "  </thead>\n",
       "  <tbody>\n",
       "    <tr>\n",
       "      <th>0</th>\n",
       "      <td>32894.0</td>\n",
       "      <td>Röyksopp</td>\n",
       "      <td>Röyksopp's Night Out</td>\n",
       "      <td>27.0</td>\n",
       "      <td>0.00468</td>\n",
       "      <td>0.652</td>\n",
       "      <td>-1.0</td>\n",
       "      <td>0.941</td>\n",
       "      <td>0.79200</td>\n",
       "      <td>A#</td>\n",
       "      <td>0.115</td>\n",
       "      <td>-5.201</td>\n",
       "      <td>Minor</td>\n",
       "      <td>0.0748</td>\n",
       "      <td>100.889</td>\n",
       "      <td>4-Apr</td>\n",
       "      <td>0.759</td>\n",
       "      <td>Electronic</td>\n",
       "    </tr>\n",
       "    <tr>\n",
       "      <th>1</th>\n",
       "      <td>46652.0</td>\n",
       "      <td>Thievery Corporation</td>\n",
       "      <td>The Shining Path</td>\n",
       "      <td>31.0</td>\n",
       "      <td>0.01270</td>\n",
       "      <td>0.622</td>\n",
       "      <td>218293.0</td>\n",
       "      <td>0.890</td>\n",
       "      <td>0.95000</td>\n",
       "      <td>D</td>\n",
       "      <td>0.124</td>\n",
       "      <td>-7.043</td>\n",
       "      <td>Minor</td>\n",
       "      <td>0.0300</td>\n",
       "      <td>115.00200000000001</td>\n",
       "      <td>4-Apr</td>\n",
       "      <td>0.531</td>\n",
       "      <td>Electronic</td>\n",
       "    </tr>\n",
       "    <tr>\n",
       "      <th>2</th>\n",
       "      <td>30097.0</td>\n",
       "      <td>Dillon Francis</td>\n",
       "      <td>Hurricane</td>\n",
       "      <td>28.0</td>\n",
       "      <td>0.00306</td>\n",
       "      <td>0.620</td>\n",
       "      <td>215613.0</td>\n",
       "      <td>0.755</td>\n",
       "      <td>0.01180</td>\n",
       "      <td>G#</td>\n",
       "      <td>0.534</td>\n",
       "      <td>-4.617</td>\n",
       "      <td>Major</td>\n",
       "      <td>0.0345</td>\n",
       "      <td>127.994</td>\n",
       "      <td>4-Apr</td>\n",
       "      <td>0.333</td>\n",
       "      <td>Electronic</td>\n",
       "    </tr>\n",
       "    <tr>\n",
       "      <th>3</th>\n",
       "      <td>62177.0</td>\n",
       "      <td>Dubloadz</td>\n",
       "      <td>Nitro</td>\n",
       "      <td>34.0</td>\n",
       "      <td>0.02540</td>\n",
       "      <td>0.774</td>\n",
       "      <td>166875.0</td>\n",
       "      <td>0.700</td>\n",
       "      <td>0.00253</td>\n",
       "      <td>C#</td>\n",
       "      <td>0.157</td>\n",
       "      <td>-4.498</td>\n",
       "      <td>Major</td>\n",
       "      <td>0.2390</td>\n",
       "      <td>128.014</td>\n",
       "      <td>4-Apr</td>\n",
       "      <td>0.270</td>\n",
       "      <td>Electronic</td>\n",
       "    </tr>\n",
       "    <tr>\n",
       "      <th>4</th>\n",
       "      <td>24907.0</td>\n",
       "      <td>What So Not</td>\n",
       "      <td>Divide &amp; Conquer</td>\n",
       "      <td>32.0</td>\n",
       "      <td>0.00465</td>\n",
       "      <td>0.638</td>\n",
       "      <td>222369.0</td>\n",
       "      <td>0.587</td>\n",
       "      <td>0.90900</td>\n",
       "      <td>F#</td>\n",
       "      <td>0.157</td>\n",
       "      <td>-6.266</td>\n",
       "      <td>Major</td>\n",
       "      <td>0.0413</td>\n",
       "      <td>145.036</td>\n",
       "      <td>4-Apr</td>\n",
       "      <td>0.323</td>\n",
       "      <td>Electronic</td>\n",
       "    </tr>\n",
       "  </tbody>\n",
       "</table>\n",
       "</div>"
      ],
      "text/plain": [
       "   instance_id           artist_name            track_name  popularity  \\\n",
       "0      32894.0              Röyksopp  Röyksopp's Night Out        27.0   \n",
       "1      46652.0  Thievery Corporation      The Shining Path        31.0   \n",
       "2      30097.0        Dillon Francis             Hurricane        28.0   \n",
       "3      62177.0              Dubloadz                 Nitro        34.0   \n",
       "4      24907.0           What So Not      Divide & Conquer        32.0   \n",
       "\n",
       "   acousticness  danceability  duration_ms  energy  instrumentalness key  \\\n",
       "0       0.00468         0.652         -1.0   0.941           0.79200  A#   \n",
       "1       0.01270         0.622     218293.0   0.890           0.95000   D   \n",
       "2       0.00306         0.620     215613.0   0.755           0.01180  G#   \n",
       "3       0.02540         0.774     166875.0   0.700           0.00253  C#   \n",
       "4       0.00465         0.638     222369.0   0.587           0.90900  F#   \n",
       "\n",
       "   liveness  loudness   mode  speechiness               tempo obtained_date  \\\n",
       "0     0.115    -5.201  Minor       0.0748             100.889         4-Apr   \n",
       "1     0.124    -7.043  Minor       0.0300  115.00200000000001         4-Apr   \n",
       "2     0.534    -4.617  Major       0.0345             127.994         4-Apr   \n",
       "3     0.157    -4.498  Major       0.2390             128.014         4-Apr   \n",
       "4     0.157    -6.266  Major       0.0413             145.036         4-Apr   \n",
       "\n",
       "   valence music_genre  \n",
       "0    0.759  Electronic  \n",
       "1    0.531  Electronic  \n",
       "2    0.333  Electronic  \n",
       "3    0.270  Electronic  \n",
       "4    0.323  Electronic  "
      ]
     },
     "execution_count": 3,
     "metadata": {},
     "output_type": "execute_result"
    }
   ],
   "source": [
    "df.head()"
   ]
  },
  {
   "cell_type": "markdown",
   "id": "3475f315",
   "metadata": {},
   "source": [
    "**Info sur les colonnes**"
   ]
  },
  {
   "cell_type": "code",
   "execution_count": 4,
   "id": "81c0491b",
   "metadata": {
    "scrolled": true
   },
   "outputs": [
    {
     "name": "stdout",
     "output_type": "stream",
     "text": [
      "<class 'pandas.core.frame.DataFrame'>\n",
      "RangeIndex: 50005 entries, 0 to 50004\n",
      "Data columns (total 18 columns):\n",
      " #   Column            Non-Null Count  Dtype  \n",
      "---  ------            --------------  -----  \n",
      " 0   instance_id       50000 non-null  float64\n",
      " 1   artist_name       50000 non-null  object \n",
      " 2   track_name        50000 non-null  object \n",
      " 3   popularity        50000 non-null  float64\n",
      " 4   acousticness      50000 non-null  float64\n",
      " 5   danceability      50000 non-null  float64\n",
      " 6   duration_ms       50000 non-null  float64\n",
      " 7   energy            50000 non-null  float64\n",
      " 8   instrumentalness  50000 non-null  float64\n",
      " 9   key               50000 non-null  object \n",
      " 10  liveness          50000 non-null  float64\n",
      " 11  loudness          50000 non-null  float64\n",
      " 12  mode              50000 non-null  object \n",
      " 13  speechiness       50000 non-null  float64\n",
      " 14  tempo             50000 non-null  object \n",
      " 15  obtained_date     50000 non-null  object \n",
      " 16  valence           50000 non-null  float64\n",
      " 17  music_genre       50000 non-null  object \n",
      "dtypes: float64(11), object(7)\n",
      "memory usage: 6.9+ MB\n"
     ]
    }
   ],
   "source": [
    "df.info()"
   ]
  },
  {
   "cell_type": "markdown",
   "id": "dfedf13b",
   "metadata": {},
   "source": [
    "**Obtenir des statistiques de base sur les données <span style=\"color:red\">numériques</span> :**"
   ]
  },
  {
   "cell_type": "code",
   "execution_count": 5,
   "id": "ea4952ea",
   "metadata": {},
   "outputs": [
    {
     "data": {
      "text/html": [
       "<div>\n",
       "<style scoped>\n",
       "    .dataframe tbody tr th:only-of-type {\n",
       "        vertical-align: middle;\n",
       "    }\n",
       "\n",
       "    .dataframe tbody tr th {\n",
       "        vertical-align: top;\n",
       "    }\n",
       "\n",
       "    .dataframe thead th {\n",
       "        text-align: right;\n",
       "    }\n",
       "</style>\n",
       "<table border=\"1\" class=\"dataframe\">\n",
       "  <thead>\n",
       "    <tr style=\"text-align: right;\">\n",
       "      <th></th>\n",
       "      <th>instance_id</th>\n",
       "      <th>popularity</th>\n",
       "      <th>acousticness</th>\n",
       "      <th>danceability</th>\n",
       "      <th>duration_ms</th>\n",
       "      <th>energy</th>\n",
       "      <th>instrumentalness</th>\n",
       "      <th>liveness</th>\n",
       "      <th>loudness</th>\n",
       "      <th>speechiness</th>\n",
       "      <th>valence</th>\n",
       "    </tr>\n",
       "  </thead>\n",
       "  <tbody>\n",
       "    <tr>\n",
       "      <th>count</th>\n",
       "      <td>50000.000000</td>\n",
       "      <td>50000.000000</td>\n",
       "      <td>50000.000000</td>\n",
       "      <td>50000.000000</td>\n",
       "      <td>5.000000e+04</td>\n",
       "      <td>50000.000000</td>\n",
       "      <td>50000.000000</td>\n",
       "      <td>50000.000000</td>\n",
       "      <td>50000.000000</td>\n",
       "      <td>50000.000000</td>\n",
       "      <td>50000.000000</td>\n",
       "    </tr>\n",
       "    <tr>\n",
       "      <th>mean</th>\n",
       "      <td>55888.396360</td>\n",
       "      <td>44.220420</td>\n",
       "      <td>0.306383</td>\n",
       "      <td>0.558241</td>\n",
       "      <td>2.212526e+05</td>\n",
       "      <td>0.599755</td>\n",
       "      <td>0.181601</td>\n",
       "      <td>0.193896</td>\n",
       "      <td>-9.133761</td>\n",
       "      <td>0.093586</td>\n",
       "      <td>0.456264</td>\n",
       "    </tr>\n",
       "    <tr>\n",
       "      <th>std</th>\n",
       "      <td>20725.256253</td>\n",
       "      <td>15.542008</td>\n",
       "      <td>0.341340</td>\n",
       "      <td>0.178632</td>\n",
       "      <td>1.286720e+05</td>\n",
       "      <td>0.264559</td>\n",
       "      <td>0.325409</td>\n",
       "      <td>0.161637</td>\n",
       "      <td>6.162990</td>\n",
       "      <td>0.101373</td>\n",
       "      <td>0.247119</td>\n",
       "    </tr>\n",
       "    <tr>\n",
       "      <th>min</th>\n",
       "      <td>20002.000000</td>\n",
       "      <td>0.000000</td>\n",
       "      <td>0.000000</td>\n",
       "      <td>0.059600</td>\n",
       "      <td>-1.000000e+00</td>\n",
       "      <td>0.000792</td>\n",
       "      <td>0.000000</td>\n",
       "      <td>0.009670</td>\n",
       "      <td>-47.046000</td>\n",
       "      <td>0.022300</td>\n",
       "      <td>0.000000</td>\n",
       "    </tr>\n",
       "    <tr>\n",
       "      <th>25%</th>\n",
       "      <td>37973.500000</td>\n",
       "      <td>34.000000</td>\n",
       "      <td>0.020000</td>\n",
       "      <td>0.442000</td>\n",
       "      <td>1.748000e+05</td>\n",
       "      <td>0.433000</td>\n",
       "      <td>0.000000</td>\n",
       "      <td>0.096900</td>\n",
       "      <td>-10.860000</td>\n",
       "      <td>0.036100</td>\n",
       "      <td>0.257000</td>\n",
       "    </tr>\n",
       "    <tr>\n",
       "      <th>50%</th>\n",
       "      <td>55913.500000</td>\n",
       "      <td>45.000000</td>\n",
       "      <td>0.144000</td>\n",
       "      <td>0.568000</td>\n",
       "      <td>2.192810e+05</td>\n",
       "      <td>0.643000</td>\n",
       "      <td>0.000158</td>\n",
       "      <td>0.126000</td>\n",
       "      <td>-7.276500</td>\n",
       "      <td>0.048900</td>\n",
       "      <td>0.448000</td>\n",
       "    </tr>\n",
       "    <tr>\n",
       "      <th>75%</th>\n",
       "      <td>73863.250000</td>\n",
       "      <td>56.000000</td>\n",
       "      <td>0.552000</td>\n",
       "      <td>0.687000</td>\n",
       "      <td>2.686122e+05</td>\n",
       "      <td>0.815000</td>\n",
       "      <td>0.155000</td>\n",
       "      <td>0.244000</td>\n",
       "      <td>-5.173000</td>\n",
       "      <td>0.098525</td>\n",
       "      <td>0.648000</td>\n",
       "    </tr>\n",
       "    <tr>\n",
       "      <th>max</th>\n",
       "      <td>91759.000000</td>\n",
       "      <td>99.000000</td>\n",
       "      <td>0.996000</td>\n",
       "      <td>0.986000</td>\n",
       "      <td>4.830606e+06</td>\n",
       "      <td>0.999000</td>\n",
       "      <td>0.996000</td>\n",
       "      <td>1.000000</td>\n",
       "      <td>3.744000</td>\n",
       "      <td>0.942000</td>\n",
       "      <td>0.992000</td>\n",
       "    </tr>\n",
       "  </tbody>\n",
       "</table>\n",
       "</div>"
      ],
      "text/plain": [
       "        instance_id    popularity  acousticness  danceability   duration_ms  \\\n",
       "count  50000.000000  50000.000000  50000.000000  50000.000000  5.000000e+04   \n",
       "mean   55888.396360     44.220420      0.306383      0.558241  2.212526e+05   \n",
       "std    20725.256253     15.542008      0.341340      0.178632  1.286720e+05   \n",
       "min    20002.000000      0.000000      0.000000      0.059600 -1.000000e+00   \n",
       "25%    37973.500000     34.000000      0.020000      0.442000  1.748000e+05   \n",
       "50%    55913.500000     45.000000      0.144000      0.568000  2.192810e+05   \n",
       "75%    73863.250000     56.000000      0.552000      0.687000  2.686122e+05   \n",
       "max    91759.000000     99.000000      0.996000      0.986000  4.830606e+06   \n",
       "\n",
       "             energy  instrumentalness      liveness      loudness  \\\n",
       "count  50000.000000      50000.000000  50000.000000  50000.000000   \n",
       "mean       0.599755          0.181601      0.193896     -9.133761   \n",
       "std        0.264559          0.325409      0.161637      6.162990   \n",
       "min        0.000792          0.000000      0.009670    -47.046000   \n",
       "25%        0.433000          0.000000      0.096900    -10.860000   \n",
       "50%        0.643000          0.000158      0.126000     -7.276500   \n",
       "75%        0.815000          0.155000      0.244000     -5.173000   \n",
       "max        0.999000          0.996000      1.000000      3.744000   \n",
       "\n",
       "        speechiness       valence  \n",
       "count  50000.000000  50000.000000  \n",
       "mean       0.093586      0.456264  \n",
       "std        0.101373      0.247119  \n",
       "min        0.022300      0.000000  \n",
       "25%        0.036100      0.257000  \n",
       "50%        0.048900      0.448000  \n",
       "75%        0.098525      0.648000  \n",
       "max        0.942000      0.992000  "
      ]
     },
     "execution_count": 5,
     "metadata": {},
     "output_type": "execute_result"
    }
   ],
   "source": [
    "df.describe()"
   ]
  },
  {
   "cell_type": "markdown",
   "id": "ad59cd04",
   "metadata": {},
   "source": [
    "**Obtenir des statistiques de base sur les données <span style=\"color:red\">qualitatives</span> :**"
   ]
  },
  {
   "cell_type": "code",
   "execution_count": 6,
   "id": "9aae1986",
   "metadata": {
    "scrolled": true
   },
   "outputs": [
    {
     "data": {
      "text/html": [
       "<div>\n",
       "<style scoped>\n",
       "    .dataframe tbody tr th:only-of-type {\n",
       "        vertical-align: middle;\n",
       "    }\n",
       "\n",
       "    .dataframe tbody tr th {\n",
       "        vertical-align: top;\n",
       "    }\n",
       "\n",
       "    .dataframe thead th {\n",
       "        text-align: right;\n",
       "    }\n",
       "</style>\n",
       "<table border=\"1\" class=\"dataframe\">\n",
       "  <thead>\n",
       "    <tr style=\"text-align: right;\">\n",
       "      <th></th>\n",
       "      <th>artist_name</th>\n",
       "      <th>track_name</th>\n",
       "      <th>key</th>\n",
       "      <th>mode</th>\n",
       "      <th>tempo</th>\n",
       "      <th>obtained_date</th>\n",
       "      <th>music_genre</th>\n",
       "    </tr>\n",
       "  </thead>\n",
       "  <tbody>\n",
       "    <tr>\n",
       "      <th>count</th>\n",
       "      <td>50000</td>\n",
       "      <td>50000</td>\n",
       "      <td>50000</td>\n",
       "      <td>50000</td>\n",
       "      <td>50000</td>\n",
       "      <td>50000</td>\n",
       "      <td>50000</td>\n",
       "    </tr>\n",
       "    <tr>\n",
       "      <th>unique</th>\n",
       "      <td>6863</td>\n",
       "      <td>41699</td>\n",
       "      <td>12</td>\n",
       "      <td>2</td>\n",
       "      <td>29394</td>\n",
       "      <td>5</td>\n",
       "      <td>10</td>\n",
       "    </tr>\n",
       "    <tr>\n",
       "      <th>top</th>\n",
       "      <td>empty_field</td>\n",
       "      <td>Home</td>\n",
       "      <td>G</td>\n",
       "      <td>Major</td>\n",
       "      <td>?</td>\n",
       "      <td>4-Apr</td>\n",
       "      <td>Electronic</td>\n",
       "    </tr>\n",
       "    <tr>\n",
       "      <th>freq</th>\n",
       "      <td>2489</td>\n",
       "      <td>16</td>\n",
       "      <td>5727</td>\n",
       "      <td>32099</td>\n",
       "      <td>4980</td>\n",
       "      <td>44748</td>\n",
       "      <td>5000</td>\n",
       "    </tr>\n",
       "  </tbody>\n",
       "</table>\n",
       "</div>"
      ],
      "text/plain": [
       "        artist_name track_name    key   mode  tempo obtained_date music_genre\n",
       "count         50000      50000  50000  50000  50000         50000       50000\n",
       "unique         6863      41699     12      2  29394             5          10\n",
       "top     empty_field       Home      G  Major      ?         4-Apr  Electronic\n",
       "freq           2489         16   5727  32099   4980         44748        5000"
      ]
     },
     "execution_count": 6,
     "metadata": {},
     "output_type": "execute_result"
    }
   ],
   "source": [
    "df.describe(include = object)"
   ]
  },
  {
   "cell_type": "markdown",
   "id": "370c5383",
   "metadata": {},
   "source": [
    "> Les valeurs `empty_field` et `?` dans le dataset sont traitées comme des chaînes valides au lieu de valeurs manquantes, nécessitant leur conversion en `NaN` pour une gestion correcte."
   ]
  },
  {
   "cell_type": "markdown",
   "id": "0bc77351",
   "metadata": {},
   "source": [
    "## <span style=\"color:rgb(25,25,112)\">Préparation de données</span>\n"
   ]
  },
  {
   "cell_type": "markdown",
   "id": "cfdf3711",
   "metadata": {},
   "source": [
    "**Compte du nombre de valeurs manquantes par colonne (<span style=\"color:green\">avant</span> remplacement de <span style=\"color:red\">empty_field</span> et <span style=\"color:red\">?</span>)**"
   ]
  },
  {
   "cell_type": "code",
   "execution_count": 7,
   "id": "3d4bd438",
   "metadata": {},
   "outputs": [
    {
     "data": {
      "text/plain": [
       "instance_id         5\n",
       "artist_name         5\n",
       "track_name          5\n",
       "popularity          5\n",
       "acousticness        5\n",
       "danceability        5\n",
       "duration_ms         5\n",
       "energy              5\n",
       "instrumentalness    5\n",
       "key                 5\n",
       "liveness            5\n",
       "loudness            5\n",
       "mode                5\n",
       "speechiness         5\n",
       "tempo               5\n",
       "obtained_date       5\n",
       "valence             5\n",
       "music_genre         5\n",
       "dtype: int64"
      ]
     },
     "execution_count": 7,
     "metadata": {},
     "output_type": "execute_result"
    }
   ],
   "source": [
    "df.isnull().sum()"
   ]
  },
  {
   "cell_type": "markdown",
   "id": "170cee75",
   "metadata": {},
   "source": [
    "**Remplacement de <span style=\"color:red\">empty_field</span> et <span style=\"color:red\">?</span>**"
   ]
  },
  {
   "cell_type": "code",
   "execution_count": 8,
   "id": "4ea5d7f0",
   "metadata": {},
   "outputs": [],
   "source": [
    "df.replace(['empty_field', '?'], np.nan, inplace=True)"
   ]
  },
  {
   "cell_type": "markdown",
   "id": "22d18e77",
   "metadata": {},
   "source": [
    "**Compte du nombre de valeurs manquantes par colonne (<span style=\"color:green\">après</span> remplacement de <span style=\"color:red\">empty_field</span> et <span style=\"color:red\">?</span>)**"
   ]
  },
  {
   "cell_type": "code",
   "execution_count": 9,
   "id": "144d4873",
   "metadata": {
    "scrolled": true
   },
   "outputs": [
    {
     "data": {
      "text/plain": [
       "instance_id            5\n",
       "artist_name         2494\n",
       "track_name             5\n",
       "popularity             5\n",
       "acousticness           5\n",
       "danceability           5\n",
       "duration_ms            5\n",
       "energy                 5\n",
       "instrumentalness       5\n",
       "key                    5\n",
       "liveness               5\n",
       "loudness               5\n",
       "mode                   5\n",
       "speechiness            5\n",
       "tempo               4985\n",
       "obtained_date          5\n",
       "valence                5\n",
       "music_genre            5\n",
       "dtype: int64"
      ]
     },
     "execution_count": 9,
     "metadata": {},
     "output_type": "execute_result"
    }
   ],
   "source": [
    "df.isnull().sum()"
   ]
  },
  {
   "cell_type": "markdown",
   "id": "f754cc8c",
   "metadata": {},
   "source": [
    "**Remplacement sur les données <span style=\"color:red\">numériques</span> :**"
   ]
  },
  {
   "cell_type": "code",
   "execution_count": 10,
   "id": "a3d5a2d3",
   "metadata": {},
   "outputs": [],
   "source": [
    "# Création d'un impute pour remplacer les valeurs manquantes des colonnes numériques\n",
    "imputer_num = SimpleImputer(strategy=\"median\")\n",
    "\n",
    "# Sélection\n",
    "numerical_cols = df.select_dtypes(include=['float64']).columns\n",
    "\n",
    "# Application de l'impute sur les colonnes numériques\n",
    "df[numerical_cols] = imputer_num.fit_transform(df[numerical_cols])\n"
   ]
  },
  {
   "cell_type": "markdown",
   "id": "3a0425ec",
   "metadata": {},
   "source": [
    "**Remplacement sur les données <span style=\"color:red\">qualitatives/catégoriels</span> :**"
   ]
  },
  {
   "cell_type": "code",
   "execution_count": 11,
   "id": "593e057f",
   "metadata": {},
   "outputs": [],
   "source": [
    "# Création d'un impute pour les attributs catégoriels\n",
    "imputer_cat = SimpleImputer(strategy=\"most_frequent\")\n",
    "\n",
    "# Sélection\n",
    "categorical_cols = df.select_dtypes(include=['object']).columns\n",
    "\n",
    "# Application de l'impute sur les colonnes catégorielles\n",
    "df[categorical_cols] = imputer_cat.fit_transform(df[categorical_cols])\n"
   ]
  },
  {
   "cell_type": "markdown",
   "id": "c06a5786",
   "metadata": {},
   "source": [
    "**Supprimer `music_genre`, pour que le modèle ne soit pas influencé par cette colonne**"
   ]
  },
  {
   "cell_type": "code",
   "execution_count": 12,
   "id": "1efee501",
   "metadata": {},
   "outputs": [],
   "source": [
    "# Supprimer la colonne 'music_genre' et la stocker dans une variable séparée\n",
    "labels = df['music_genre'].copy()\n",
    "df = df.drop('music_genre', axis=1)\n"
   ]
  },
  {
   "cell_type": "markdown",
   "id": "eb26fa59",
   "metadata": {},
   "source": [
    "**Suppression des Colonnes Inutiles**\n"
   ]
  },
  {
   "cell_type": "code",
   "execution_count": 13,
   "id": "23b6af89",
   "metadata": {},
   "outputs": [],
   "source": [
    "df.drop(['artist_name', 'track_name', 'obtained_date'], axis=1, inplace=True)"
   ]
  },
  {
   "cell_type": "markdown",
   "id": "32602d10",
   "metadata": {},
   "source": [
    "**Convertir tempo en Type Numérique**"
   ]
  },
  {
   "cell_type": "code",
   "execution_count": 14,
   "id": "8bbfa9e3",
   "metadata": {},
   "outputs": [],
   "source": [
    "df['tempo'] = pd.to_numeric(df['tempo'], errors='coerce')"
   ]
  },
  {
   "cell_type": "markdown",
   "id": "c079c017",
   "metadata": {},
   "source": [
    ">La colonne `tempo` contient des valeurs numériques, mais elle est stockée en tant que type objet,"
   ]
  },
  {
   "cell_type": "markdown",
   "id": "7b111516",
   "metadata": {},
   "source": [
    "**Encodage des Données Catégorielles**"
   ]
  },
  {
   "cell_type": "code",
   "execution_count": 15,
   "id": "0b905f16",
   "metadata": {
    "scrolled": true
   },
   "outputs": [
    {
     "data": {
      "text/html": [
       "<div>\n",
       "<style scoped>\n",
       "    .dataframe tbody tr th:only-of-type {\n",
       "        vertical-align: middle;\n",
       "    }\n",
       "\n",
       "    .dataframe tbody tr th {\n",
       "        vertical-align: top;\n",
       "    }\n",
       "\n",
       "    .dataframe thead th {\n",
       "        text-align: right;\n",
       "    }\n",
       "</style>\n",
       "<table border=\"1\" class=\"dataframe\">\n",
       "  <thead>\n",
       "    <tr style=\"text-align: right;\">\n",
       "      <th></th>\n",
       "      <th>instance_id</th>\n",
       "      <th>popularity</th>\n",
       "      <th>acousticness</th>\n",
       "      <th>danceability</th>\n",
       "      <th>duration_ms</th>\n",
       "      <th>energy</th>\n",
       "      <th>instrumentalness</th>\n",
       "      <th>liveness</th>\n",
       "      <th>loudness</th>\n",
       "      <th>speechiness</th>\n",
       "      <th>...</th>\n",
       "      <th>key_C</th>\n",
       "      <th>key_C#</th>\n",
       "      <th>key_D</th>\n",
       "      <th>key_D#</th>\n",
       "      <th>key_E</th>\n",
       "      <th>key_F</th>\n",
       "      <th>key_F#</th>\n",
       "      <th>key_G</th>\n",
       "      <th>key_G#</th>\n",
       "      <th>mode_Minor</th>\n",
       "    </tr>\n",
       "  </thead>\n",
       "  <tbody>\n",
       "    <tr>\n",
       "      <th>0</th>\n",
       "      <td>32894.0</td>\n",
       "      <td>27.0</td>\n",
       "      <td>0.00468</td>\n",
       "      <td>0.652</td>\n",
       "      <td>-1.0</td>\n",
       "      <td>0.941</td>\n",
       "      <td>0.79200</td>\n",
       "      <td>0.115</td>\n",
       "      <td>-5.201</td>\n",
       "      <td>0.0748</td>\n",
       "      <td>...</td>\n",
       "      <td>0</td>\n",
       "      <td>0</td>\n",
       "      <td>0</td>\n",
       "      <td>0</td>\n",
       "      <td>0</td>\n",
       "      <td>0</td>\n",
       "      <td>0</td>\n",
       "      <td>0</td>\n",
       "      <td>0</td>\n",
       "      <td>1</td>\n",
       "    </tr>\n",
       "    <tr>\n",
       "      <th>1</th>\n",
       "      <td>46652.0</td>\n",
       "      <td>31.0</td>\n",
       "      <td>0.01270</td>\n",
       "      <td>0.622</td>\n",
       "      <td>218293.0</td>\n",
       "      <td>0.890</td>\n",
       "      <td>0.95000</td>\n",
       "      <td>0.124</td>\n",
       "      <td>-7.043</td>\n",
       "      <td>0.0300</td>\n",
       "      <td>...</td>\n",
       "      <td>0</td>\n",
       "      <td>0</td>\n",
       "      <td>1</td>\n",
       "      <td>0</td>\n",
       "      <td>0</td>\n",
       "      <td>0</td>\n",
       "      <td>0</td>\n",
       "      <td>0</td>\n",
       "      <td>0</td>\n",
       "      <td>1</td>\n",
       "    </tr>\n",
       "    <tr>\n",
       "      <th>2</th>\n",
       "      <td>30097.0</td>\n",
       "      <td>28.0</td>\n",
       "      <td>0.00306</td>\n",
       "      <td>0.620</td>\n",
       "      <td>215613.0</td>\n",
       "      <td>0.755</td>\n",
       "      <td>0.01180</td>\n",
       "      <td>0.534</td>\n",
       "      <td>-4.617</td>\n",
       "      <td>0.0345</td>\n",
       "      <td>...</td>\n",
       "      <td>0</td>\n",
       "      <td>0</td>\n",
       "      <td>0</td>\n",
       "      <td>0</td>\n",
       "      <td>0</td>\n",
       "      <td>0</td>\n",
       "      <td>0</td>\n",
       "      <td>0</td>\n",
       "      <td>1</td>\n",
       "      <td>0</td>\n",
       "    </tr>\n",
       "    <tr>\n",
       "      <th>3</th>\n",
       "      <td>62177.0</td>\n",
       "      <td>34.0</td>\n",
       "      <td>0.02540</td>\n",
       "      <td>0.774</td>\n",
       "      <td>166875.0</td>\n",
       "      <td>0.700</td>\n",
       "      <td>0.00253</td>\n",
       "      <td>0.157</td>\n",
       "      <td>-4.498</td>\n",
       "      <td>0.2390</td>\n",
       "      <td>...</td>\n",
       "      <td>0</td>\n",
       "      <td>1</td>\n",
       "      <td>0</td>\n",
       "      <td>0</td>\n",
       "      <td>0</td>\n",
       "      <td>0</td>\n",
       "      <td>0</td>\n",
       "      <td>0</td>\n",
       "      <td>0</td>\n",
       "      <td>0</td>\n",
       "    </tr>\n",
       "    <tr>\n",
       "      <th>4</th>\n",
       "      <td>24907.0</td>\n",
       "      <td>32.0</td>\n",
       "      <td>0.00465</td>\n",
       "      <td>0.638</td>\n",
       "      <td>222369.0</td>\n",
       "      <td>0.587</td>\n",
       "      <td>0.90900</td>\n",
       "      <td>0.157</td>\n",
       "      <td>-6.266</td>\n",
       "      <td>0.0413</td>\n",
       "      <td>...</td>\n",
       "      <td>0</td>\n",
       "      <td>0</td>\n",
       "      <td>0</td>\n",
       "      <td>0</td>\n",
       "      <td>0</td>\n",
       "      <td>0</td>\n",
       "      <td>1</td>\n",
       "      <td>0</td>\n",
       "      <td>0</td>\n",
       "      <td>0</td>\n",
       "    </tr>\n",
       "  </tbody>\n",
       "</table>\n",
       "<p>5 rows × 24 columns</p>\n",
       "</div>"
      ],
      "text/plain": [
       "   instance_id  popularity  acousticness  danceability  duration_ms  energy  \\\n",
       "0      32894.0        27.0       0.00468         0.652         -1.0   0.941   \n",
       "1      46652.0        31.0       0.01270         0.622     218293.0   0.890   \n",
       "2      30097.0        28.0       0.00306         0.620     215613.0   0.755   \n",
       "3      62177.0        34.0       0.02540         0.774     166875.0   0.700   \n",
       "4      24907.0        32.0       0.00465         0.638     222369.0   0.587   \n",
       "\n",
       "   instrumentalness  liveness  loudness  speechiness  ...  key_C  key_C#  \\\n",
       "0           0.79200     0.115    -5.201       0.0748  ...      0       0   \n",
       "1           0.95000     0.124    -7.043       0.0300  ...      0       0   \n",
       "2           0.01180     0.534    -4.617       0.0345  ...      0       0   \n",
       "3           0.00253     0.157    -4.498       0.2390  ...      0       1   \n",
       "4           0.90900     0.157    -6.266       0.0413  ...      0       0   \n",
       "\n",
       "   key_D  key_D#  key_E  key_F  key_F#  key_G  key_G#  mode_Minor  \n",
       "0      0       0      0      0       0      0       0           1  \n",
       "1      1       0      0      0       0      0       0           1  \n",
       "2      0       0      0      0       0      0       1           0  \n",
       "3      0       0      0      0       0      0       0           0  \n",
       "4      0       0      0      0       1      0       0           0  \n",
       "\n",
       "[5 rows x 24 columns]"
      ]
     },
     "execution_count": 15,
     "metadata": {},
     "output_type": "execute_result"
    }
   ],
   "source": [
    "df = pd.get_dummies(df, drop_first=True)\n",
    "df.head()\n"
   ]
  },
  {
   "cell_type": "markdown",
   "id": "fb9b56e7",
   "metadata": {},
   "source": [
    "> l'encodage One-Hot créera une nouvelle colonne pour chaque catégorie unique des données catégorielles, avec des 1 et des 0 indiquant la présence d'une catégorie pour chaque observation "
   ]
  },
  {
   "cell_type": "markdown",
   "id": "c8ec25a1",
   "metadata": {},
   "source": [
    "**Standardisation des données numériques**"
   ]
  },
  {
   "cell_type": "code",
   "execution_count": 16,
   "id": "15e9c8bf",
   "metadata": {},
   "outputs": [],
   "source": [
    "# Création d'un objet StandardScaler\n",
    "scaler = StandardScaler()\n",
    "\n",
    "# Application de la standardisation aux caractéristiques numériques\n",
    "df[numerical_cols] = scaler.fit_transform(df[numerical_cols])\n",
    "\n",
    "df.drop(['instance_id'], axis=1, inplace=True)"
   ]
  },
  {
   "cell_type": "markdown",
   "id": "dbfed94e",
   "metadata": {},
   "source": [
    ">La standardisation des données numériques assure que chaque caractéristique contribue équitablement au modèle, évitant ainsi que les variables à grande échelle dominent indûment le processus d'analyse."
   ]
  },
  {
   "cell_type": "markdown",
   "id": "2fbde3dd",
   "metadata": {},
   "source": [
    "## <span style=\"color:rgb(25,25,112)\">Analyse en Composantes Canoniques</span>"
   ]
  },
  {
   "cell_type": "markdown",
   "id": "d3b0cd33",
   "metadata": {},
   "source": [
    "**Séparation du dataframe en deux ensembles de variables X et Y.**"
   ]
  },
  {
   "cell_type": "code",
   "execution_count": 19,
   "id": "4059484f",
   "metadata": {
    "scrolled": true
   },
   "outputs": [],
   "source": [
    "X = df[['acousticness', 'danceability', 'energy', 'instrumentalness', 'liveness', 'loudness', 'speechiness', 'tempo']]\n",
    "Y = df.drop(['acousticness', 'danceability', 'energy', 'instrumentalness', 'liveness', 'loudness', 'speechiness', 'tempo'], axis=1)\n"
   ]
  },
  {
   "cell_type": "markdown",
   "id": "064ed8ab",
   "metadata": {},
   "source": [
    "**Application de la CCA**"
   ]
  },
  {
   "cell_type": "code",
   "execution_count": 20,
   "id": "50ce4102",
   "metadata": {},
   "outputs": [],
   "source": [
    "from sklearn.cross_decomposition import CCA\n",
    "\n",
    "# Le nombre de composantes est généralement le rang le plus bas entre X et Y\n",
    "n_components = min(X.shape[1], Y.shape[1])\n",
    "\n",
    "cca = CCA(n_components=n_components)\n",
    "cca.fit(X, Y)\n",
    "X_c, Y_c = cca.transform(X, Y)\n"
   ]
  },
  {
   "cell_type": "markdown",
   "id": "dad86a62",
   "metadata": {},
   "source": [
    "**Corrélation entre les ensembles de composantes canoniques**"
   ]
  },
  {
   "cell_type": "code",
   "execution_count": 21,
   "id": "ccb087f8",
   "metadata": {},
   "outputs": [
    {
     "name": "stdout",
     "output_type": "stream",
     "text": [
      "Corrélations entre les composantes canoniques :\n",
      "[[ 6.48163035e-01  1.55062824e-16  2.44277638e-16  3.39736057e-16\n",
      "   5.10778306e-16  4.22882857e-16 -1.14750532e-16  2.17815479e-16]\n",
      " [ 6.48877362e-05  3.56081847e-01  9.05096079e-17 -7.91466375e-17\n",
      "  -1.84283809e-16 -4.43393094e-16  8.95320578e-17 -9.85539836e-17]\n",
      " [-2.03141324e-08 -8.69845149e-05  1.71815425e-01 -1.16393189e-16\n",
      "  -1.07670209e-16 -2.53094406e-16 -2.14902161e-16 -9.89003725e-17]\n",
      " [-1.78530677e-10 -9.01011699e-07 -5.40760049e-05  1.06143120e-01\n",
      "   1.53369740e-16  3.58923518e-16  0.00000000e+00  1.47074092e-16]\n",
      " [-8.61745483e-14 -4.70108452e-10  5.44095543e-09 -9.13547422e-06\n",
      "   4.64741231e-02 -4.64243092e-18 -3.49970839e-18 -7.74571346e-17]\n",
      " [-1.62168164e-14 -7.83888909e-11  5.14990099e-10 -9.13906287e-07\n",
      "  -2.93525831e-05  3.60328867e-02 -7.82257039e-17  3.72409511e-17]\n",
      " [-5.19092596e-17 -1.89320247e-12  8.01379762e-12 -1.46810022e-08\n",
      "   1.55370298e-08 -1.94140317e-05  2.97626972e-02 -1.25199292e-17]\n",
      " [-2.31787942e-16 -1.14015540e-13  2.05735485e-13 -3.90990878e-10\n",
      "   6.77251710e-13  3.51561410e-10 -5.95566069e-06  1.95521368e-02]]\n"
     ]
    }
   ],
   "source": [
    "correlations = np.corrcoef(X_c.T, Y_c.T)[:n_components, n_components:]\n",
    "print(\"Corrélations entre les composantes canoniques :\")\n",
    "print(correlations)\n"
   ]
  },
  {
   "cell_type": "markdown",
   "id": "6719fa22",
   "metadata": {},
   "source": [
    ">En analysant notre dataset via l'Analyse en Composantes Canoniques, nous avons identifié une corrélation significative entre les caractéristiques des morceaux de musique et leur réception par le public, particulièrement mise en évidence par les deux premières paires de composantes canoniques. Cette forte corrélation pour la première paire (0.648) et une corrélation notable pour la deuxième (0.356) révèlent des interactions intéressantes qui méritent une exploration plus approfondie. Ces résultats nous encouragent à examiner plus en détail les caractéristiques qui influencent le plus la popularité des morceaux, nous offrant ainsi des insights précieux pour guider la création et la promotion de la musique à l'avenir."
   ]
  },
  {
   "cell_type": "markdown",
   "id": "1aaa6303",
   "metadata": {},
   "source": [
    "**Visualisation des Scores Canoniques**"
   ]
  },
  {
   "cell_type": "code",
   "execution_count": 23,
   "id": "2ed0d17d",
   "metadata": {
    "scrolled": true
   },
   "outputs": [
    {
     "data": {
      "image/png": "[encoded data removed]",
      "text/plain": [
       "<Figure size 1000x600 with 1 Axes>"
      ]
     },
     "metadata": {},
     "output_type": "display_data"
    }
   ],
   "source": [
    "# Projections des ensembles X et Y sur l'espace des composantes canoniques\n",
    "X_c, Y_c = cca.transform(X, Y)\n",
    "\n",
    "plt.figure(figsize=(10, 6))\n",
    "\n",
    "# Diagramme de dispersion pour les scores canoniques du premier ensemble\n",
    "plt.scatter(X_c[:, 0], X_c[:, 1], color='red', alpha=0.5, label='Ensemble X')\n",
    "\n",
    "# Diagramme de dispersion pour les scores canoniques du deuxième ensemble\n",
    "plt.scatter(Y_c[:, 0], Y_c[:, 1], color='blue', alpha=0.5, label='Ensemble Y')\n",
    "\n",
    "plt.title('Visualisation des Scores Canoniques')\n",
    "plt.xlabel('Première Composante Canonique')\n",
    "plt.ylabel('Deuxième Composante Canonique')\n",
    "plt.legend()\n",
    "plt.show()\n"
   ]
  },
  {
   "cell_type": "markdown",
   "id": "d4adfe51",
   "metadata": {},
   "source": [
    "**Calcul des Scores et visualisation des orrélations**"
   ]
  },
  {
   "cell_type": "code",
   "execution_count": 25,
   "id": "21da4158",
   "metadata": {},
   "outputs": [
    {
     "data": {
      "text/html": [
       "<style type=\"text/css\">\n",
       "#T_8e502_row0_col0, #T_8e502_row1_col1, #T_8e502_row2_col2, #T_8e502_row3_col3 {\n",
       "  background-color: #b40426;\n",
       "  color: #f1f1f1;\n",
       "}\n",
       "#T_8e502_row0_col1, #T_8e502_row0_col3, #T_8e502_row1_col0, #T_8e502_row1_col2, #T_8e502_row2_col1, #T_8e502_row2_col3, #T_8e502_row3_col0, #T_8e502_row3_col2 {\n",
       "  background-color: #3b4cc0;\n",
       "  color: #f1f1f1;\n",
       "}\n",
       "#T_8e502_row0_col2, #T_8e502_row2_col0 {\n",
       "  background-color: #f6bea4;\n",
       "  color: #000000;\n",
       "}\n",
       "#T_8e502_row1_col3, #T_8e502_row3_col1 {\n",
       "  background-color: #b2ccfb;\n",
       "  color: #000000;\n",
       "}\n",
       "</style>\n",
       "<table id=\"T_8e502\">\n",
       "  <thead>\n",
       "    <tr>\n",
       "      <th class=\"blank level0\" >&nbsp;</th>\n",
       "      <th id=\"T_8e502_level0_col0\" class=\"col_heading level0 col0\" >$U_1$</th>\n",
       "      <th id=\"T_8e502_level0_col1\" class=\"col_heading level0 col1\" >$U_2$</th>\n",
       "      <th id=\"T_8e502_level0_col2\" class=\"col_heading level0 col2\" >$V_1$</th>\n",
       "      <th id=\"T_8e502_level0_col3\" class=\"col_heading level0 col3\" >$V_2$</th>\n",
       "    </tr>\n",
       "  </thead>\n",
       "  <tbody>\n",
       "    <tr>\n",
       "      <th id=\"T_8e502_level0_row0\" class=\"row_heading level0 row0\" >$U_1$</th>\n",
       "      <td id=\"T_8e502_row0_col0\" class=\"data row0 col0\" >1.000000</td>\n",
       "      <td id=\"T_8e502_row0_col1\" class=\"data row0 col1\" >-0.000000</td>\n",
       "      <td id=\"T_8e502_row0_col2\" class=\"data row0 col2\" >0.648163</td>\n",
       "      <td id=\"T_8e502_row0_col3\" class=\"data row0 col3\" >0.000000</td>\n",
       "    </tr>\n",
       "    <tr>\n",
       "      <th id=\"T_8e502_level0_row1\" class=\"row_heading level0 row1\" >$U_2$</th>\n",
       "      <td id=\"T_8e502_row1_col0\" class=\"data row1 col0\" >-0.000000</td>\n",
       "      <td id=\"T_8e502_row1_col1\" class=\"data row1 col1\" >1.000000</td>\n",
       "      <td id=\"T_8e502_row1_col2\" class=\"data row1 col2\" >0.000065</td>\n",
       "      <td id=\"T_8e502_row1_col3\" class=\"data row1 col3\" >0.356082</td>\n",
       "    </tr>\n",
       "    <tr>\n",
       "      <th id=\"T_8e502_level0_row2\" class=\"row_heading level0 row2\" >$V_1$</th>\n",
       "      <td id=\"T_8e502_row2_col0\" class=\"data row2 col0\" >0.648163</td>\n",
       "      <td id=\"T_8e502_row2_col1\" class=\"data row2 col1\" >0.000065</td>\n",
       "      <td id=\"T_8e502_row2_col2\" class=\"data row2 col2\" >1.000000</td>\n",
       "      <td id=\"T_8e502_row2_col3\" class=\"data row2 col3\" >0.000000</td>\n",
       "    </tr>\n",
       "    <tr>\n",
       "      <th id=\"T_8e502_level0_row3\" class=\"row_heading level0 row3\" >$V_2$</th>\n",
       "      <td id=\"T_8e502_row3_col0\" class=\"data row3 col0\" >0.000000</td>\n",
       "      <td id=\"T_8e502_row3_col1\" class=\"data row3 col1\" >0.356082</td>\n",
       "      <td id=\"T_8e502_row3_col2\" class=\"data row3 col2\" >0.000000</td>\n",
       "      <td id=\"T_8e502_row3_col3\" class=\"data row3 col3\" >1.000000</td>\n",
       "    </tr>\n",
       "  </tbody>\n",
       "</table>\n"
      ],
      "text/plain": [
       "<pandas.io.formats.style.Styler at 0x14f09752640>"
      ]
     },
     "execution_count": 25,
     "metadata": {},
     "output_type": "execute_result"
    }
   ],
   "source": [
    "# Initialisation et ajustement de la CCA\n",
    "cca = CCA(n_components=2)\n",
    "cca.fit(X, Y)\n",
    "\n",
    "# Obtention des scores transformés\n",
    "U_, V_ = cca.transform(X, Y)\n",
    "\n",
    "\n",
    "# Calcul de la corrélation entre les scores\n",
    "corr_cca = pd.DataFrame(np.corrcoef(U_.T, V_.T), index=[\"$U_1$\", \"$U_2$\", \"$V_1$\", \"$V_2$\"], columns=[\"$U_1$\", \"$U_2$\", \"$V_1$\", \"$V_2$\"])\n",
    "corr_cca.style.background_gradient(cmap='coolwarm')\n"
   ]
  },
  {
   "cell_type": "code",
   "execution_count": 28,
   "id": "2d8c2d56",
   "metadata": {},
   "outputs": [
    {
     "name": "stdout",
     "output_type": "stream",
     "text": [
      "Corrélation entre $U_1$ et $V_1$:  0.648\n"
     ]
    }
   ],
   "source": [
    "score_corr = np.round(corr_cca.loc[\"$U_1$\", \"$V_1$\"], decimals=3)\n",
    "print(\"Corrélation entre $U_1$ et $V_1$: \", score_corr)"
   ]
  },
  {
   "cell_type": "markdown",
   "id": "07183622",
   "metadata": {},
   "source": [
    ">La corrélation de 0.648 entre les premières composantes canoniques U1 et V1 est significative, révélant que les variations dans l'ensemble de données X sont bien reflétées et correspondantes aux variations dans l'ensemble de données Y pour ces composantes spécifiques."
   ]
  },
  {
   "cell_type": "markdown",
   "id": "937f0bb7",
   "metadata": {},
   "source": [
    "**Cercle de corrélation**"
   ]
  },
  {
   "cell_type": "code",
   "execution_count": 42,
   "id": "1625ded5",
   "metadata": {},
   "outputs": [
    {
     "data": {
      "image/png": "[encoded data removed]",
      "text/plain": [
       "<Figure size 800x800 with 1 Axes>"
      ]
     },
     "metadata": {},
     "output_type": "display_data"
    }
   ],
   "source": [
    "# Concaténation des datasets X et Y\n",
    "scaled_data = np.concatenate((X, Y), axis=1)\n",
    "\n",
    "\n",
    "# Conversion en DataFrame pour une utilisation plus aisée\n",
    "column_names = ['popularity', 'acousticness', 'danceability', 'duration_ms', 'energy',\n",
    "       'instrumentalness', 'liveness', 'loudness', 'speechiness', 'tempo',\n",
    "       'valence', 'key_A#', 'key_B', 'key_C', 'key_C#', 'key_D', 'key_D#',\n",
    "       'key_E', 'key_F', 'key_F#', 'key_G', 'key_G#', 'mode_Minor']\n",
    "scaled_data = pd.DataFrame(scaled_data, columns=column_names)\n",
    "\n",
    "\n",
    "# Calcul de C1 et C2 comme moyennes des scores U_ et V_\n",
    "C1 = np.array((1/2)*(U_[:,0] + V_[:,0]))\n",
    "C2 = np.array((1/2)*(U_[:,1] + V_[:,1]))\n",
    "Caxes = np.array([C1, C2])\n",
    "\n",
    "\n",
    "# Calcul de la corrélation des variables avec les axes C1 et C2\n",
    "corvar = np.corrcoef(Caxes, scaled_data.T)[:2, 2:]  \n",
    "\n",
    "\n",
    "fig, axes = plt.subplots(figsize=(8, 8))\n",
    "axes.set_xlim(-1, 1)\n",
    "axes.set_ylim(-1, 1)\n",
    "\n",
    "# Annotation des variables avec leurs coordonnées\n",
    "for j in range(scaled_data.shape[1]):\n",
    "    plt.annotate(scaled_data.columns[j], (corvar[0, j], corvar[1, j]))\n",
    "\n",
    "# Ajout des axes\n",
    "plt.plot([-1, 1], [0, 0], color='silver', linestyle='-', linewidth=1)\n",
    "plt.plot([0, 0], [-1, 1], color='silver', linestyle='-', linewidth=1)\n",
    "\n",
    "# Ajout d'un cercle\n",
    "cercle = plt.Circle((0, 0), 1, color='blue', fill=False)\n",
    "axes.add_artist(cercle)\n",
    "\n",
    "# Affichage du cercle de corrélation\n",
    "plt.show()\n"
   ]
  },
  {
   "cell_type": "code",
   "execution_count": 46,
   "id": "9586a9fa",
   "metadata": {},
   "outputs": [
    {
     "data": {
      "text/html": [
       "<div>\n",
       "<style scoped>\n",
       "    .dataframe tbody tr th:only-of-type {\n",
       "        vertical-align: middle;\n",
       "    }\n",
       "\n",
       "    .dataframe tbody tr th {\n",
       "        vertical-align: top;\n",
       "    }\n",
       "\n",
       "    .dataframe thead th {\n",
       "        text-align: right;\n",
       "    }\n",
       "</style>\n",
       "<table border=\"1\" class=\"dataframe\">\n",
       "  <thead>\n",
       "    <tr style=\"text-align: right;\">\n",
       "      <th></th>\n",
       "      <th>popularity</th>\n",
       "      <th>acousticness</th>\n",
       "      <th>danceability</th>\n",
       "      <th>duration_ms</th>\n",
       "      <th>energy</th>\n",
       "      <th>instrumentalness</th>\n",
       "      <th>liveness</th>\n",
       "      <th>loudness</th>\n",
       "      <th>speechiness</th>\n",
       "      <th>tempo</th>\n",
       "      <th>...</th>\n",
       "      <th>key_C</th>\n",
       "      <th>key_C#</th>\n",
       "      <th>key_D</th>\n",
       "      <th>key_D#</th>\n",
       "      <th>key_E</th>\n",
       "      <th>key_F</th>\n",
       "      <th>key_F#</th>\n",
       "      <th>key_G</th>\n",
       "      <th>key_G#</th>\n",
       "      <th>mode_Minor</th>\n",
       "    </tr>\n",
       "  </thead>\n",
       "  <tbody>\n",
       "    <tr>\n",
       "      <th>count</th>\n",
       "      <td>5.000500e+04</td>\n",
       "      <td>5.000500e+04</td>\n",
       "      <td>5.000500e+04</td>\n",
       "      <td>5.000500e+04</td>\n",
       "      <td>5.000500e+04</td>\n",
       "      <td>5.000500e+04</td>\n",
       "      <td>5.000500e+04</td>\n",
       "      <td>5.000500e+04</td>\n",
       "      <td>5.000500e+04</td>\n",
       "      <td>50005.000000</td>\n",
       "      <td>...</td>\n",
       "      <td>50005.000000</td>\n",
       "      <td>50005.000000</td>\n",
       "      <td>50005.000000</td>\n",
       "      <td>50005.000000</td>\n",
       "      <td>50005.000000</td>\n",
       "      <td>50005.000000</td>\n",
       "      <td>50005.000000</td>\n",
       "      <td>50005.000000</td>\n",
       "      <td>50005.000000</td>\n",
       "      <td>50005.000000</td>\n",
       "    </tr>\n",
       "    <tr>\n",
       "      <th>mean</th>\n",
       "      <td>9.792178e-15</td>\n",
       "      <td>-1.597174e-15</td>\n",
       "      <td>2.890066e-16</td>\n",
       "      <td>-1.471731e-15</td>\n",
       "      <td>1.836012e-15</td>\n",
       "      <td>-1.394696e-14</td>\n",
       "      <td>-4.141739e-16</td>\n",
       "      <td>-2.029529e-16</td>\n",
       "      <td>9.559019e-16</td>\n",
       "      <td>119.957650</td>\n",
       "      <td>...</td>\n",
       "      <td>0.110429</td>\n",
       "      <td>0.108089</td>\n",
       "      <td>0.105289</td>\n",
       "      <td>0.031797</td>\n",
       "      <td>0.075192</td>\n",
       "      <td>0.086811</td>\n",
       "      <td>0.062014</td>\n",
       "      <td>0.114629</td>\n",
       "      <td>0.066373</td>\n",
       "      <td>0.357984</td>\n",
       "    </tr>\n",
       "    <tr>\n",
       "      <th>std</th>\n",
       "      <td>1.000010e+00</td>\n",
       "      <td>1.000010e+00</td>\n",
       "      <td>1.000010e+00</td>\n",
       "      <td>1.000010e+00</td>\n",
       "      <td>1.000010e+00</td>\n",
       "      <td>1.000010e+00</td>\n",
       "      <td>1.000010e+00</td>\n",
       "      <td>1.000010e+00</td>\n",
       "      <td>1.000010e+00</td>\n",
       "      <td>29.074246</td>\n",
       "      <td>...</td>\n",
       "      <td>0.313427</td>\n",
       "      <td>0.310496</td>\n",
       "      <td>0.306929</td>\n",
       "      <td>0.175461</td>\n",
       "      <td>0.263704</td>\n",
       "      <td>0.281561</td>\n",
       "      <td>0.241183</td>\n",
       "      <td>0.318576</td>\n",
       "      <td>0.248936</td>\n",
       "      <td>0.479412</td>\n",
       "    </tr>\n",
       "    <tr>\n",
       "      <th>min</th>\n",
       "      <td>-2.845395e+00</td>\n",
       "      <td>-8.975842e-01</td>\n",
       "      <td>-2.791616e+00</td>\n",
       "      <td>-1.719619e+00</td>\n",
       "      <td>-2.264151e+00</td>\n",
       "      <td>-5.580379e-01</td>\n",
       "      <td>-1.139770e+00</td>\n",
       "      <td>-6.151970e+00</td>\n",
       "      <td>-7.031997e-01</td>\n",
       "      <td>34.347000</td>\n",
       "      <td>...</td>\n",
       "      <td>0.000000</td>\n",
       "      <td>0.000000</td>\n",
       "      <td>0.000000</td>\n",
       "      <td>0.000000</td>\n",
       "      <td>0.000000</td>\n",
       "      <td>0.000000</td>\n",
       "      <td>0.000000</td>\n",
       "      <td>0.000000</td>\n",
       "      <td>0.000000</td>\n",
       "      <td>0.000000</td>\n",
       "    </tr>\n",
       "    <tr>\n",
       "      <th>25%</th>\n",
       "      <td>-6.576441e-01</td>\n",
       "      <td>-8.386958e-01</td>\n",
       "      <td>-6.507732e-01</td>\n",
       "      <td>-3.610281e-01</td>\n",
       "      <td>-6.303650e-01</td>\n",
       "      <td>-5.580379e-01</td>\n",
       "      <td>-6.000766e-01</td>\n",
       "      <td>-2.799810e-01</td>\n",
       "      <td>-5.670622e-01</td>\n",
       "      <td>96.777000</td>\n",
       "      <td>...</td>\n",
       "      <td>0.000000</td>\n",
       "      <td>0.000000</td>\n",
       "      <td>0.000000</td>\n",
       "      <td>0.000000</td>\n",
       "      <td>0.000000</td>\n",
       "      <td>0.000000</td>\n",
       "      <td>0.000000</td>\n",
       "      <td>0.000000</td>\n",
       "      <td>0.000000</td>\n",
       "      <td>0.000000</td>\n",
       "    </tr>\n",
       "    <tr>\n",
       "      <th>50%</th>\n",
       "      <td>5.015753e-02</td>\n",
       "      <td>-4.756969e-01</td>\n",
       "      <td>5.463001e-02</td>\n",
       "      <td>-1.532210e-02</td>\n",
       "      <td>1.634546e-01</td>\n",
       "      <td>-5.575524e-01</td>\n",
       "      <td>-4.200344e-01</td>\n",
       "      <td>3.013437e-01</td>\n",
       "      <td>-4.407897e-01</td>\n",
       "      <td>120.000000</td>\n",
       "      <td>...</td>\n",
       "      <td>0.000000</td>\n",
       "      <td>0.000000</td>\n",
       "      <td>0.000000</td>\n",
       "      <td>0.000000</td>\n",
       "      <td>0.000000</td>\n",
       "      <td>0.000000</td>\n",
       "      <td>0.000000</td>\n",
       "      <td>0.000000</td>\n",
       "      <td>0.000000</td>\n",
       "      <td>0.000000</td>\n",
       "    </tr>\n",
       "    <tr>\n",
       "      <th>75%</th>\n",
       "      <td>7.579591e-01</td>\n",
       "      <td>7.196504e-01</td>\n",
       "      <td>7.208441e-01</td>\n",
       "      <td>3.679934e-01</td>\n",
       "      <td>8.136306e-01</td>\n",
       "      <td>-8.169324e-02</td>\n",
       "      <td>3.100335e-01</td>\n",
       "      <td>6.426743e-01</td>\n",
       "      <td>4.851620e-02</td>\n",
       "      <td>139.465000</td>\n",
       "      <td>...</td>\n",
       "      <td>0.000000</td>\n",
       "      <td>0.000000</td>\n",
       "      <td>0.000000</td>\n",
       "      <td>0.000000</td>\n",
       "      <td>0.000000</td>\n",
       "      <td>0.000000</td>\n",
       "      <td>0.000000</td>\n",
       "      <td>0.000000</td>\n",
       "      <td>0.000000</td>\n",
       "      <td>1.000000</td>\n",
       "    </tr>\n",
       "    <tr>\n",
       "      <th>max</th>\n",
       "      <td>3.524820e+00</td>\n",
       "      <td>2.020470e+00</td>\n",
       "      <td>2.394777e+00</td>\n",
       "      <td>3.582467e+01</td>\n",
       "      <td>1.509168e+00</td>\n",
       "      <td>2.502861e+00</td>\n",
       "      <td>4.987418e+00</td>\n",
       "      <td>2.089617e+00</td>\n",
       "      <td>8.369676e+00</td>\n",
       "      <td>220.276000</td>\n",
       "      <td>...</td>\n",
       "      <td>1.000000</td>\n",
       "      <td>1.000000</td>\n",
       "      <td>1.000000</td>\n",
       "      <td>1.000000</td>\n",
       "      <td>1.000000</td>\n",
       "      <td>1.000000</td>\n",
       "      <td>1.000000</td>\n",
       "      <td>1.000000</td>\n",
       "      <td>1.000000</td>\n",
       "      <td>1.000000</td>\n",
       "    </tr>\n",
       "  </tbody>\n",
       "</table>\n",
       "<p>8 rows × 23 columns</p>\n",
       "</div>"
      ],
      "text/plain": [
       "         popularity  acousticness  danceability   duration_ms        energy  \\\n",
       "count  5.000500e+04  5.000500e+04  5.000500e+04  5.000500e+04  5.000500e+04   \n",
       "mean   9.792178e-15 -1.597174e-15  2.890066e-16 -1.471731e-15  1.836012e-15   \n",
       "std    1.000010e+00  1.000010e+00  1.000010e+00  1.000010e+00  1.000010e+00   \n",
       "min   -2.845395e+00 -8.975842e-01 -2.791616e+00 -1.719619e+00 -2.264151e+00   \n",
       "25%   -6.576441e-01 -8.386958e-01 -6.507732e-01 -3.610281e-01 -6.303650e-01   \n",
       "50%    5.015753e-02 -4.756969e-01  5.463001e-02 -1.532210e-02  1.634546e-01   \n",
       "75%    7.579591e-01  7.196504e-01  7.208441e-01  3.679934e-01  8.136306e-01   \n",
       "max    3.524820e+00  2.020470e+00  2.394777e+00  3.582467e+01  1.509168e+00   \n",
       "\n",
       "       instrumentalness      liveness      loudness   speechiness  \\\n",
       "count      5.000500e+04  5.000500e+04  5.000500e+04  5.000500e+04   \n",
       "mean      -1.394696e-14 -4.141739e-16 -2.029529e-16  9.559019e-16   \n",
       "std        1.000010e+00  1.000010e+00  1.000010e+00  1.000010e+00   \n",
       "min       -5.580379e-01 -1.139770e+00 -6.151970e+00 -7.031997e-01   \n",
       "25%       -5.580379e-01 -6.000766e-01 -2.799810e-01 -5.670622e-01   \n",
       "50%       -5.575524e-01 -4.200344e-01  3.013437e-01 -4.407897e-01   \n",
       "75%       -8.169324e-02  3.100335e-01  6.426743e-01  4.851620e-02   \n",
       "max        2.502861e+00  4.987418e+00  2.089617e+00  8.369676e+00   \n",
       "\n",
       "              tempo  ...         key_C        key_C#         key_D  \\\n",
       "count  50005.000000  ...  50005.000000  50005.000000  50005.000000   \n",
       "mean     119.957650  ...      0.110429      0.108089      0.105289   \n",
       "std       29.074246  ...      0.313427      0.310496      0.306929   \n",
       "min       34.347000  ...      0.000000      0.000000      0.000000   \n",
       "25%       96.777000  ...      0.000000      0.000000      0.000000   \n",
       "50%      120.000000  ...      0.000000      0.000000      0.000000   \n",
       "75%      139.465000  ...      0.000000      0.000000      0.000000   \n",
       "max      220.276000  ...      1.000000      1.000000      1.000000   \n",
       "\n",
       "             key_D#         key_E         key_F        key_F#         key_G  \\\n",
       "count  50005.000000  50005.000000  50005.000000  50005.000000  50005.000000   \n",
       "mean       0.031797      0.075192      0.086811      0.062014      0.114629   \n",
       "std        0.175461      0.263704      0.281561      0.241183      0.318576   \n",
       "min        0.000000      0.000000      0.000000      0.000000      0.000000   \n",
       "25%        0.000000      0.000000      0.000000      0.000000      0.000000   \n",
       "50%        0.000000      0.000000      0.000000      0.000000      0.000000   \n",
       "75%        0.000000      0.000000      0.000000      0.000000      0.000000   \n",
       "max        1.000000      1.000000      1.000000      1.000000      1.000000   \n",
       "\n",
       "             key_G#    mode_Minor  \n",
       "count  50005.000000  50005.000000  \n",
       "mean       0.066373      0.357984  \n",
       "std        0.248936      0.479412  \n",
       "min        0.000000      0.000000  \n",
       "25%        0.000000      0.000000  \n",
       "50%        0.000000      0.000000  \n",
       "75%        0.000000      1.000000  \n",
       "max        1.000000      1.000000  \n",
       "\n",
       "[8 rows x 23 columns]"
      ]
     },
     "execution_count": 46,
     "metadata": {},
     "output_type": "execute_result"
    }
   ],
   "source": [
    "df.describe()"
   ]
  },
  {
   "cell_type": "markdown",
   "id": "04f7893c",
   "metadata": {},
   "source": [
    "# Conclusion"
   ]
  },
  {
   "cell_type": "markdown",
   "id": "af8b3e7a",
   "metadata": {},
   "source": [
    ">L'analyse du cercle de corrélation révèle que des attributs comme la valence, la speechiness, et l'acousticness démontrent une corrélation modérée à forte avec nos composantes canoniques, suggérant que ces caractéristiques sont particulièrement saillantes dans la relation étudiée. La proximité de la duration_ms et de la popularité vers le milieu du cercle, mais légèrement en dehors du centre, indique une influence mesurée sur nos composantes, soulignant une association moins directe mais toujours présente. En revanche, les variables encodées telles que les tonalités (key_A#, key_B, etc.) sont regroupées vers le centre, signalant une contribution relativement faible à la variation expliquée par les composantes canoniques, ce qui est cohérent avec leur nature catégorielle et binaire."
   ]
  },
  {
   "cell_type": "markdown",
   "id": "6b52a83f",
   "metadata": {},
   "source": [
    ">"
   ]
  }
 ],
 "metadata": {
  "celltoolbar": "Aucun(e)",
  "kernelspec": {
   "display_name": "Python 3 (ipykernel)",
   "language": "python",
   "name": "python3"
  },
  "language_info": {
   "codemirror_mode": {
    "name": "ipython",
    "version": 3
   },
   "file_extension": ".py",
   "mimetype": "text/x-python",
   "name": "python",
   "nbconvert_exporter": "python",
   "pygments_lexer": "ipython3",
   "version": "3.9.13"
  },
  "widgets": {
   "application/vnd.jupyter.widget-state+json": {
    "state": {},
    "version_major": 2,
    "version_minor": 0
   }
  }
 },
 "nbformat": 4,
 "nbformat_minor": 5
}
