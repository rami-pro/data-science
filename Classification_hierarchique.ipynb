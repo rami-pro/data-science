{
 "cells": [
  {
   "cell_type": "markdown",
   "id": "0586b81b",
   "metadata": {},
   "source": [
    "## <span style=\"color:rgb(25,25,112)\">Import des bibliotheques</span>\n"
   ]
  },
  {
   "cell_type": "code",
   "execution_count": 1,
   "id": "9db064bc",
   "metadata": {},
   "outputs": [],
   "source": [
    "import pandas as pd\n",
    "import numpy as np\n",
    "import matplotlib.pyplot as plt\n",
    "from scipy.cluster.hierarchy import dendrogram, linkage\n",
    "from sklearn.impute import SimpleImputer\n",
    "from sklearn.preprocessing import StandardScaler\n",
    "from sklearn.metrics import silhouette_score\n",
    "import seaborn as sns\n",
    "%matplotlib inline"
   ]
  },
  {
   "cell_type": "markdown",
   "id": "60b73513",
   "metadata": {},
   "source": [
    "## <span style=\"color:rgb(25,25,112)\">Import du fichier CSV</span>\n"
   ]
  },
  {
   "cell_type": "code",
   "execution_count": 2,
   "id": "35c7244e",
   "metadata": {},
   "outputs": [],
   "source": [
    "df = pd.read_csv('music_genre.csv', header=0)"
   ]
  },
  {
   "cell_type": "markdown",
   "id": "08820db8",
   "metadata": {},
   "source": [
    "**Premières 5 lignes de notre DataFrame**"
   ]
  },
  {
   "cell_type": "code",
   "execution_count": 3,
   "id": "51216900",
   "metadata": {},
   "outputs": [
    {
     "data": {
      "text/html": [
       "<div>\n",
       "<style scoped>\n",
       "    .dataframe tbody tr th:only-of-type {\n",
       "        vertical-align: middle;\n",
       "    }\n",
       "\n",
       "    .dataframe tbody tr th {\n",
       "        vertical-align: top;\n",
       "    }\n",
       "\n",
       "    .dataframe thead th {\n",
       "        text-align: right;\n",
       "    }\n",
       "</style>\n",
       "<table border=\"1\" class=\"dataframe\">\n",
       "  <thead>\n",
       "    <tr style=\"text-align: right;\">\n",
       "      <th></th>\n",
       "      <th>instance_id</th>\n",
       "      <th>artist_name</th>\n",
       "      <th>track_name</th>\n",
       "      <th>popularity</th>\n",
       "      <th>acousticness</th>\n",
       "      <th>danceability</th>\n",
       "      <th>duration_ms</th>\n",
       "      <th>energy</th>\n",
       "      <th>instrumentalness</th>\n",
       "      <th>key</th>\n",
       "      <th>liveness</th>\n",
       "      <th>loudness</th>\n",
       "      <th>mode</th>\n",
       "      <th>speechiness</th>\n",
       "      <th>tempo</th>\n",
       "      <th>obtained_date</th>\n",
       "      <th>valence</th>\n",
       "      <th>music_genre</th>\n",
       "    </tr>\n",
       "  </thead>\n",
       "  <tbody>\n",
       "    <tr>\n",
       "      <th>0</th>\n",
       "      <td>32894.0</td>\n",
       "      <td>Röyksopp</td>\n",
       "      <td>Röyksopp's Night Out</td>\n",
       "      <td>27.0</td>\n",
       "      <td>0.00468</td>\n",
       "      <td>0.652</td>\n",
       "      <td>-1.0</td>\n",
       "      <td>0.941</td>\n",
       "      <td>0.79200</td>\n",
       "      <td>A#</td>\n",
       "      <td>0.115</td>\n",
       "      <td>-5.201</td>\n",
       "      <td>Minor</td>\n",
       "      <td>0.0748</td>\n",
       "      <td>100.889</td>\n",
       "      <td>4-Apr</td>\n",
       "      <td>0.759</td>\n",
       "      <td>Electronic</td>\n",
       "    </tr>\n",
       "    <tr>\n",
       "      <th>1</th>\n",
       "      <td>46652.0</td>\n",
       "      <td>Thievery Corporation</td>\n",
       "      <td>The Shining Path</td>\n",
       "      <td>31.0</td>\n",
       "      <td>0.01270</td>\n",
       "      <td>0.622</td>\n",
       "      <td>218293.0</td>\n",
       "      <td>0.890</td>\n",
       "      <td>0.95000</td>\n",
       "      <td>D</td>\n",
       "      <td>0.124</td>\n",
       "      <td>-7.043</td>\n",
       "      <td>Minor</td>\n",
       "      <td>0.0300</td>\n",
       "      <td>115.00200000000001</td>\n",
       "      <td>4-Apr</td>\n",
       "      <td>0.531</td>\n",
       "      <td>Electronic</td>\n",
       "    </tr>\n",
       "    <tr>\n",
       "      <th>2</th>\n",
       "      <td>30097.0</td>\n",
       "      <td>Dillon Francis</td>\n",
       "      <td>Hurricane</td>\n",
       "      <td>28.0</td>\n",
       "      <td>0.00306</td>\n",
       "      <td>0.620</td>\n",
       "      <td>215613.0</td>\n",
       "      <td>0.755</td>\n",
       "      <td>0.01180</td>\n",
       "      <td>G#</td>\n",
       "      <td>0.534</td>\n",
       "      <td>-4.617</td>\n",
       "      <td>Major</td>\n",
       "      <td>0.0345</td>\n",
       "      <td>127.994</td>\n",
       "      <td>4-Apr</td>\n",
       "      <td>0.333</td>\n",
       "      <td>Electronic</td>\n",
       "    </tr>\n",
       "    <tr>\n",
       "      <th>3</th>\n",
       "      <td>62177.0</td>\n",
       "      <td>Dubloadz</td>\n",
       "      <td>Nitro</td>\n",
       "      <td>34.0</td>\n",
       "      <td>0.02540</td>\n",
       "      <td>0.774</td>\n",
       "      <td>166875.0</td>\n",
       "      <td>0.700</td>\n",
       "      <td>0.00253</td>\n",
       "      <td>C#</td>\n",
       "      <td>0.157</td>\n",
       "      <td>-4.498</td>\n",
       "      <td>Major</td>\n",
       "      <td>0.2390</td>\n",
       "      <td>128.014</td>\n",
       "      <td>4-Apr</td>\n",
       "      <td>0.270</td>\n",
       "      <td>Electronic</td>\n",
       "    </tr>\n",
       "    <tr>\n",
       "      <th>4</th>\n",
       "      <td>24907.0</td>\n",
       "      <td>What So Not</td>\n",
       "      <td>Divide &amp; Conquer</td>\n",
       "      <td>32.0</td>\n",
       "      <td>0.00465</td>\n",
       "      <td>0.638</td>\n",
       "      <td>222369.0</td>\n",
       "      <td>0.587</td>\n",
       "      <td>0.90900</td>\n",
       "      <td>F#</td>\n",
       "      <td>0.157</td>\n",
       "      <td>-6.266</td>\n",
       "      <td>Major</td>\n",
       "      <td>0.0413</td>\n",
       "      <td>145.036</td>\n",
       "      <td>4-Apr</td>\n",
       "      <td>0.323</td>\n",
       "      <td>Electronic</td>\n",
       "    </tr>\n",
       "  </tbody>\n",
       "</table>\n",
       "</div>"
      ],
      "text/plain": [
       "   instance_id           artist_name            track_name  popularity  \\\n",
       "0      32894.0              Röyksopp  Röyksopp's Night Out        27.0   \n",
       "1      46652.0  Thievery Corporation      The Shining Path        31.0   \n",
       "2      30097.0        Dillon Francis             Hurricane        28.0   \n",
       "3      62177.0              Dubloadz                 Nitro        34.0   \n",
       "4      24907.0           What So Not      Divide & Conquer        32.0   \n",
       "\n",
       "   acousticness  danceability  duration_ms  energy  instrumentalness key  \\\n",
       "0       0.00468         0.652         -1.0   0.941           0.79200  A#   \n",
       "1       0.01270         0.622     218293.0   0.890           0.95000   D   \n",
       "2       0.00306         0.620     215613.0   0.755           0.01180  G#   \n",
       "3       0.02540         0.774     166875.0   0.700           0.00253  C#   \n",
       "4       0.00465         0.638     222369.0   0.587           0.90900  F#   \n",
       "\n",
       "   liveness  loudness   mode  speechiness               tempo obtained_date  \\\n",
       "0     0.115    -5.201  Minor       0.0748             100.889         4-Apr   \n",
       "1     0.124    -7.043  Minor       0.0300  115.00200000000001         4-Apr   \n",
       "2     0.534    -4.617  Major       0.0345             127.994         4-Apr   \n",
       "3     0.157    -4.498  Major       0.2390             128.014         4-Apr   \n",
       "4     0.157    -6.266  Major       0.0413             145.036         4-Apr   \n",
       "\n",
       "   valence music_genre  \n",
       "0    0.759  Electronic  \n",
       "1    0.531  Electronic  \n",
       "2    0.333  Electronic  \n",
       "3    0.270  Electronic  \n",
       "4    0.323  Electronic  "
      ]
     },
     "execution_count": 3,
     "metadata": {},
     "output_type": "execute_result"
    }
   ],
   "source": [
    "df.head()"
   ]
  },
  {
   "cell_type": "markdown",
   "id": "3475f315",
   "metadata": {},
   "source": [
    "**Info sur les colonnes**"
   ]
  },
  {
   "cell_type": "code",
   "execution_count": 4,
   "id": "81c0491b",
   "metadata": {
    "scrolled": true
   },
   "outputs": [
    {
     "name": "stdout",
     "output_type": "stream",
     "text": [
      "<class 'pandas.core.frame.DataFrame'>\n",
      "RangeIndex: 50005 entries, 0 to 50004\n",
      "Data columns (total 18 columns):\n",
      " #   Column            Non-Null Count  Dtype  \n",
      "---  ------            --------------  -----  \n",
      " 0   instance_id       50000 non-null  float64\n",
      " 1   artist_name       50000 non-null  object \n",
      " 2   track_name        50000 non-null  object \n",
      " 3   popularity        50000 non-null  float64\n",
      " 4   acousticness      50000 non-null  float64\n",
      " 5   danceability      50000 non-null  float64\n",
      " 6   duration_ms       50000 non-null  float64\n",
      " 7   energy            50000 non-null  float64\n",
      " 8   instrumentalness  50000 non-null  float64\n",
      " 9   key               50000 non-null  object \n",
      " 10  liveness          50000 non-null  float64\n",
      " 11  loudness          50000 non-null  float64\n",
      " 12  mode              50000 non-null  object \n",
      " 13  speechiness       50000 non-null  float64\n",
      " 14  tempo             50000 non-null  object \n",
      " 15  obtained_date     50000 non-null  object \n",
      " 16  valence           50000 non-null  float64\n",
      " 17  music_genre       50000 non-null  object \n",
      "dtypes: float64(11), object(7)\n",
      "memory usage: 6.9+ MB\n"
     ]
    }
   ],
   "source": [
    "df.info()"
   ]
  },
  {
   "cell_type": "markdown",
   "id": "dfedf13b",
   "metadata": {},
   "source": [
    "**Obtenir des statistiques de base sur les données <span style=\"color:red\">numériques</span> :**"
   ]
  },
  {
   "cell_type": "code",
   "execution_count": 5,
   "id": "ea4952ea",
   "metadata": {},
   "outputs": [
    {
     "data": {
      "text/html": [
       "<div>\n",
       "<style scoped>\n",
       "    .dataframe tbody tr th:only-of-type {\n",
       "        vertical-align: middle;\n",
       "    }\n",
       "\n",
       "    .dataframe tbody tr th {\n",
       "        vertical-align: top;\n",
       "    }\n",
       "\n",
       "    .dataframe thead th {\n",
       "        text-align: right;\n",
       "    }\n",
       "</style>\n",
       "<table border=\"1\" class=\"dataframe\">\n",
       "  <thead>\n",
       "    <tr style=\"text-align: right;\">\n",
       "      <th></th>\n",
       "      <th>instance_id</th>\n",
       "      <th>popularity</th>\n",
       "      <th>acousticness</th>\n",
       "      <th>danceability</th>\n",
       "      <th>duration_ms</th>\n",
       "      <th>energy</th>\n",
       "      <th>instrumentalness</th>\n",
       "      <th>liveness</th>\n",
       "      <th>loudness</th>\n",
       "      <th>speechiness</th>\n",
       "      <th>valence</th>\n",
       "    </tr>\n",
       "  </thead>\n",
       "  <tbody>\n",
       "    <tr>\n",
       "      <th>count</th>\n",
       "      <td>50000.000000</td>\n",
       "      <td>50000.000000</td>\n",
       "      <td>50000.000000</td>\n",
       "      <td>50000.000000</td>\n",
       "      <td>5.000000e+04</td>\n",
       "      <td>50000.000000</td>\n",
       "      <td>50000.000000</td>\n",
       "      <td>50000.000000</td>\n",
       "      <td>50000.000000</td>\n",
       "      <td>50000.000000</td>\n",
       "      <td>50000.000000</td>\n",
       "    </tr>\n",
       "    <tr>\n",
       "      <th>mean</th>\n",
       "      <td>55888.396360</td>\n",
       "      <td>44.220420</td>\n",
       "      <td>0.306383</td>\n",
       "      <td>0.558241</td>\n",
       "      <td>2.212526e+05</td>\n",
       "      <td>0.599755</td>\n",
       "      <td>0.181601</td>\n",
       "      <td>0.193896</td>\n",
       "      <td>-9.133761</td>\n",
       "      <td>0.093586</td>\n",
       "      <td>0.456264</td>\n",
       "    </tr>\n",
       "    <tr>\n",
       "      <th>std</th>\n",
       "      <td>20725.256253</td>\n",
       "      <td>15.542008</td>\n",
       "      <td>0.341340</td>\n",
       "      <td>0.178632</td>\n",
       "      <td>1.286720e+05</td>\n",
       "      <td>0.264559</td>\n",
       "      <td>0.325409</td>\n",
       "      <td>0.161637</td>\n",
       "      <td>6.162990</td>\n",
       "      <td>0.101373</td>\n",
       "      <td>0.247119</td>\n",
       "    </tr>\n",
       "    <tr>\n",
       "      <th>min</th>\n",
       "      <td>20002.000000</td>\n",
       "      <td>0.000000</td>\n",
       "      <td>0.000000</td>\n",
       "      <td>0.059600</td>\n",
       "      <td>-1.000000e+00</td>\n",
       "      <td>0.000792</td>\n",
       "      <td>0.000000</td>\n",
       "      <td>0.009670</td>\n",
       "      <td>-47.046000</td>\n",
       "      <td>0.022300</td>\n",
       "      <td>0.000000</td>\n",
       "    </tr>\n",
       "    <tr>\n",
       "      <th>25%</th>\n",
       "      <td>37973.500000</td>\n",
       "      <td>34.000000</td>\n",
       "      <td>0.020000</td>\n",
       "      <td>0.442000</td>\n",
       "      <td>1.748000e+05</td>\n",
       "      <td>0.433000</td>\n",
       "      <td>0.000000</td>\n",
       "      <td>0.096900</td>\n",
       "      <td>-10.860000</td>\n",
       "      <td>0.036100</td>\n",
       "      <td>0.257000</td>\n",
       "    </tr>\n",
       "    <tr>\n",
       "      <th>50%</th>\n",
       "      <td>55913.500000</td>\n",
       "      <td>45.000000</td>\n",
       "      <td>0.144000</td>\n",
       "      <td>0.568000</td>\n",
       "      <td>2.192810e+05</td>\n",
       "      <td>0.643000</td>\n",
       "      <td>0.000158</td>\n",
       "      <td>0.126000</td>\n",
       "      <td>-7.276500</td>\n",
       "      <td>0.048900</td>\n",
       "      <td>0.448000</td>\n",
       "    </tr>\n",
       "    <tr>\n",
       "      <th>75%</th>\n",
       "      <td>73863.250000</td>\n",
       "      <td>56.000000</td>\n",
       "      <td>0.552000</td>\n",
       "      <td>0.687000</td>\n",
       "      <td>2.686122e+05</td>\n",
       "      <td>0.815000</td>\n",
       "      <td>0.155000</td>\n",
       "      <td>0.244000</td>\n",
       "      <td>-5.173000</td>\n",
       "      <td>0.098525</td>\n",
       "      <td>0.648000</td>\n",
       "    </tr>\n",
       "    <tr>\n",
       "      <th>max</th>\n",
       "      <td>91759.000000</td>\n",
       "      <td>99.000000</td>\n",
       "      <td>0.996000</td>\n",
       "      <td>0.986000</td>\n",
       "      <td>4.830606e+06</td>\n",
       "      <td>0.999000</td>\n",
       "      <td>0.996000</td>\n",
       "      <td>1.000000</td>\n",
       "      <td>3.744000</td>\n",
       "      <td>0.942000</td>\n",
       "      <td>0.992000</td>\n",
       "    </tr>\n",
       "  </tbody>\n",
       "</table>\n",
       "</div>"
      ],
      "text/plain": [
       "        instance_id    popularity  acousticness  danceability   duration_ms  \\\n",
       "count  50000.000000  50000.000000  50000.000000  50000.000000  5.000000e+04   \n",
       "mean   55888.396360     44.220420      0.306383      0.558241  2.212526e+05   \n",
       "std    20725.256253     15.542008      0.341340      0.178632  1.286720e+05   \n",
       "min    20002.000000      0.000000      0.000000      0.059600 -1.000000e+00   \n",
       "25%    37973.500000     34.000000      0.020000      0.442000  1.748000e+05   \n",
       "50%    55913.500000     45.000000      0.144000      0.568000  2.192810e+05   \n",
       "75%    73863.250000     56.000000      0.552000      0.687000  2.686122e+05   \n",
       "max    91759.000000     99.000000      0.996000      0.986000  4.830606e+06   \n",
       "\n",
       "             energy  instrumentalness      liveness      loudness  \\\n",
       "count  50000.000000      50000.000000  50000.000000  50000.000000   \n",
       "mean       0.599755          0.181601      0.193896     -9.133761   \n",
       "std        0.264559          0.325409      0.161637      6.162990   \n",
       "min        0.000792          0.000000      0.009670    -47.046000   \n",
       "25%        0.433000          0.000000      0.096900    -10.860000   \n",
       "50%        0.643000          0.000158      0.126000     -7.276500   \n",
       "75%        0.815000          0.155000      0.244000     -5.173000   \n",
       "max        0.999000          0.996000      1.000000      3.744000   \n",
       "\n",
       "        speechiness       valence  \n",
       "count  50000.000000  50000.000000  \n",
       "mean       0.093586      0.456264  \n",
       "std        0.101373      0.247119  \n",
       "min        0.022300      0.000000  \n",
       "25%        0.036100      0.257000  \n",
       "50%        0.048900      0.448000  \n",
       "75%        0.098525      0.648000  \n",
       "max        0.942000      0.992000  "
      ]
     },
     "execution_count": 5,
     "metadata": {},
     "output_type": "execute_result"
    }
   ],
   "source": [
    "df.describe()"
   ]
  },
  {
   "cell_type": "markdown",
   "id": "ad59cd04",
   "metadata": {},
   "source": [
    "**Obtenir des statistiques de base sur les données <span style=\"color:red\">qualitatives</span> :**"
   ]
  },
  {
   "cell_type": "code",
   "execution_count": 6,
   "id": "9aae1986",
   "metadata": {
    "scrolled": true
   },
   "outputs": [
    {
     "data": {
      "text/html": [
       "<div>\n",
       "<style scoped>\n",
       "    .dataframe tbody tr th:only-of-type {\n",
       "        vertical-align: middle;\n",
       "    }\n",
       "\n",
       "    .dataframe tbody tr th {\n",
       "        vertical-align: top;\n",
       "    }\n",
       "\n",
       "    .dataframe thead th {\n",
       "        text-align: right;\n",
       "    }\n",
       "</style>\n",
       "<table border=\"1\" class=\"dataframe\">\n",
       "  <thead>\n",
       "    <tr style=\"text-align: right;\">\n",
       "      <th></th>\n",
       "      <th>artist_name</th>\n",
       "      <th>track_name</th>\n",
       "      <th>key</th>\n",
       "      <th>mode</th>\n",
       "      <th>tempo</th>\n",
       "      <th>obtained_date</th>\n",
       "      <th>music_genre</th>\n",
       "    </tr>\n",
       "  </thead>\n",
       "  <tbody>\n",
       "    <tr>\n",
       "      <th>count</th>\n",
       "      <td>50000</td>\n",
       "      <td>50000</td>\n",
       "      <td>50000</td>\n",
       "      <td>50000</td>\n",
       "      <td>50000</td>\n",
       "      <td>50000</td>\n",
       "      <td>50000</td>\n",
       "    </tr>\n",
       "    <tr>\n",
       "      <th>unique</th>\n",
       "      <td>6863</td>\n",
       "      <td>41699</td>\n",
       "      <td>12</td>\n",
       "      <td>2</td>\n",
       "      <td>29394</td>\n",
       "      <td>5</td>\n",
       "      <td>10</td>\n",
       "    </tr>\n",
       "    <tr>\n",
       "      <th>top</th>\n",
       "      <td>empty_field</td>\n",
       "      <td>Home</td>\n",
       "      <td>G</td>\n",
       "      <td>Major</td>\n",
       "      <td>?</td>\n",
       "      <td>4-Apr</td>\n",
       "      <td>Electronic</td>\n",
       "    </tr>\n",
       "    <tr>\n",
       "      <th>freq</th>\n",
       "      <td>2489</td>\n",
       "      <td>16</td>\n",
       "      <td>5727</td>\n",
       "      <td>32099</td>\n",
       "      <td>4980</td>\n",
       "      <td>44748</td>\n",
       "      <td>5000</td>\n",
       "    </tr>\n",
       "  </tbody>\n",
       "</table>\n",
       "</div>"
      ],
      "text/plain": [
       "        artist_name track_name    key   mode  tempo obtained_date music_genre\n",
       "count         50000      50000  50000  50000  50000         50000       50000\n",
       "unique         6863      41699     12      2  29394             5          10\n",
       "top     empty_field       Home      G  Major      ?         4-Apr  Electronic\n",
       "freq           2489         16   5727  32099   4980         44748        5000"
      ]
     },
     "execution_count": 6,
     "metadata": {},
     "output_type": "execute_result"
    }
   ],
   "source": [
    "df.describe(include = object)"
   ]
  },
  {
   "cell_type": "markdown",
   "id": "370c5383",
   "metadata": {},
   "source": [
    "> Les valeurs `empty_field` et `?` dans le dataset sont traitées comme des chaînes valides au lieu de valeurs manquantes, nécessitant leur conversion en `NaN` pour une gestion correcte."
   ]
  },
  {
   "cell_type": "markdown",
   "id": "0bc77351",
   "metadata": {},
   "source": [
    "## <span style=\"color:rgb(25,25,112)\">Préparation de données</span>\n"
   ]
  },
  {
   "cell_type": "markdown",
   "id": "cfdf3711",
   "metadata": {},
   "source": [
    "**Compte du nombre de valeurs manquantes par colonne (<span style=\"color:green\">avant</span> remplacement de <span style=\"color:red\">empty_field</span> et <span style=\"color:red\">?</span>)**"
   ]
  },
  {
   "cell_type": "code",
   "execution_count": 7,
   "id": "3d4bd438",
   "metadata": {},
   "outputs": [
    {
     "data": {
      "text/plain": [
       "instance_id         5\n",
       "artist_name         5\n",
       "track_name          5\n",
       "popularity          5\n",
       "acousticness        5\n",
       "danceability        5\n",
       "duration_ms         5\n",
       "energy              5\n",
       "instrumentalness    5\n",
       "key                 5\n",
       "liveness            5\n",
       "loudness            5\n",
       "mode                5\n",
       "speechiness         5\n",
       "tempo               5\n",
       "obtained_date       5\n",
       "valence             5\n",
       "music_genre         5\n",
       "dtype: int64"
      ]
     },
     "execution_count": 7,
     "metadata": {},
     "output_type": "execute_result"
    }
   ],
   "source": [
    "df.isnull().sum()"
   ]
  },
  {
   "cell_type": "markdown",
   "id": "170cee75",
   "metadata": {},
   "source": [
    "**Remplacement de <span style=\"color:red\">empty_field</span> et <span style=\"color:red\">?</span>**"
   ]
  },
  {
   "cell_type": "code",
   "execution_count": 8,
   "id": "4ea5d7f0",
   "metadata": {},
   "outputs": [],
   "source": [
    "df.replace(['empty_field', '?'], np.nan, inplace=True)"
   ]
  },
  {
   "cell_type": "markdown",
   "id": "22d18e77",
   "metadata": {},
   "source": [
    "**Compte du nombre de valeurs manquantes par colonne (<span style=\"color:green\">après</span> remplacement de <span style=\"color:red\">empty_field</span> et <span style=\"color:red\">?</span>)**"
   ]
  },
  {
   "cell_type": "code",
   "execution_count": 9,
   "id": "144d4873",
   "metadata": {
    "scrolled": true
   },
   "outputs": [
    {
     "data": {
      "text/plain": [
       "instance_id            5\n",
       "artist_name         2494\n",
       "track_name             5\n",
       "popularity             5\n",
       "acousticness           5\n",
       "danceability           5\n",
       "duration_ms            5\n",
       "energy                 5\n",
       "instrumentalness       5\n",
       "key                    5\n",
       "liveness               5\n",
       "loudness               5\n",
       "mode                   5\n",
       "speechiness            5\n",
       "tempo               4985\n",
       "obtained_date          5\n",
       "valence                5\n",
       "music_genre            5\n",
       "dtype: int64"
      ]
     },
     "execution_count": 9,
     "metadata": {},
     "output_type": "execute_result"
    }
   ],
   "source": [
    "df.isnull().sum()"
   ]
  },
  {
   "cell_type": "markdown",
   "id": "f754cc8c",
   "metadata": {},
   "source": [
    "**Remplacement sur les données <span style=\"color:red\">numériques</span> :**"
   ]
  },
  {
   "cell_type": "code",
   "execution_count": 10,
   "id": "a3d5a2d3",
   "metadata": {},
   "outputs": [],
   "source": [
    "# Création d'un impute pour remplacer les valeurs manquantes des colonnes numériques\n",
    "imputer_num = SimpleImputer(strategy=\"median\")\n",
    "\n",
    "# Sélection\n",
    "numerical_cols = df.select_dtypes(include=['float64']).columns\n",
    "\n",
    "# Application de l'impute sur les colonnes numériques\n",
    "df[numerical_cols] = imputer_num.fit_transform(df[numerical_cols])\n"
   ]
  },
  {
   "cell_type": "markdown",
   "id": "3a0425ec",
   "metadata": {},
   "source": [
    "**Remplacement sur les données <span style=\"color:red\">qualitatives/catégoriels</span> :**"
   ]
  },
  {
   "cell_type": "code",
   "execution_count": 11,
   "id": "593e057f",
   "metadata": {},
   "outputs": [],
   "source": [
    "# Création d'un impute pour les attributs catégoriels\n",
    "imputer_cat = SimpleImputer(strategy=\"most_frequent\")\n",
    "\n",
    "# Sélection\n",
    "categorical_cols = df.select_dtypes(include=['object']).columns\n",
    "\n",
    "# Application de l'impute sur les colonnes catégorielles\n",
    "df[categorical_cols] = imputer_cat.fit_transform(df[categorical_cols])\n"
   ]
  },
  {
   "cell_type": "markdown",
   "id": "c06a5786",
   "metadata": {},
   "source": [
    "**Supprimer `music_genre`, pour que le modèle ne soit pas influencé par cette colonne**"
   ]
  },
  {
   "cell_type": "code",
   "execution_count": 12,
   "id": "1efee501",
   "metadata": {},
   "outputs": [],
   "source": [
    "# Supprimer la colonne 'music_genre' et la stocker dans une variable séparée\n",
    "labels = df['music_genre'].copy()\n",
    "df = df.drop('music_genre', axis=1)\n"
   ]
  },
  {
   "cell_type": "markdown",
   "id": "eb26fa59",
   "metadata": {},
   "source": [
    "**Suppression des Colonnes Inutiles**\n"
   ]
  },
  {
   "cell_type": "code",
   "execution_count": 13,
   "id": "23b6af89",
   "metadata": {},
   "outputs": [],
   "source": [
    "df.drop(['artist_name', 'track_name', 'obtained_date', 'instance_id'], axis=1, inplace=True)"
   ]
  },
  {
   "cell_type": "markdown",
   "id": "32602d10",
   "metadata": {},
   "source": [
    "**Convertir tempo en Type Numérique**"
   ]
  },
  {
   "cell_type": "code",
   "execution_count": 14,
   "id": "8bbfa9e3",
   "metadata": {},
   "outputs": [],
   "source": [
    "df['tempo'] = pd.to_numeric(df['tempo'], errors='coerce')"
   ]
  },
  {
   "cell_type": "markdown",
   "id": "c079c017",
   "metadata": {},
   "source": [
    ">La colonne `tempo` contient des valeurs numériques, mais elle est stockée en tant que type objet,"
   ]
  },
  {
   "cell_type": "markdown",
   "id": "7b111516",
   "metadata": {},
   "source": [
    "**Encodage des Données Catégorielles**"
   ]
  },
  {
   "cell_type": "code",
   "execution_count": 15,
   "id": "0b905f16",
   "metadata": {
    "scrolled": true
   },
   "outputs": [
    {
     "data": {
      "text/html": [
       "<div>\n",
       "<style scoped>\n",
       "    .dataframe tbody tr th:only-of-type {\n",
       "        vertical-align: middle;\n",
       "    }\n",
       "\n",
       "    .dataframe tbody tr th {\n",
       "        vertical-align: top;\n",
       "    }\n",
       "\n",
       "    .dataframe thead th {\n",
       "        text-align: right;\n",
       "    }\n",
       "</style>\n",
       "<table border=\"1\" class=\"dataframe\">\n",
       "  <thead>\n",
       "    <tr style=\"text-align: right;\">\n",
       "      <th></th>\n",
       "      <th>popularity</th>\n",
       "      <th>acousticness</th>\n",
       "      <th>danceability</th>\n",
       "      <th>duration_ms</th>\n",
       "      <th>energy</th>\n",
       "      <th>instrumentalness</th>\n",
       "      <th>liveness</th>\n",
       "      <th>loudness</th>\n",
       "      <th>speechiness</th>\n",
       "      <th>tempo</th>\n",
       "      <th>...</th>\n",
       "      <th>key_C</th>\n",
       "      <th>key_C#</th>\n",
       "      <th>key_D</th>\n",
       "      <th>key_D#</th>\n",
       "      <th>key_E</th>\n",
       "      <th>key_F</th>\n",
       "      <th>key_F#</th>\n",
       "      <th>key_G</th>\n",
       "      <th>key_G#</th>\n",
       "      <th>mode_Minor</th>\n",
       "    </tr>\n",
       "  </thead>\n",
       "  <tbody>\n",
       "    <tr>\n",
       "      <th>0</th>\n",
       "      <td>27.0</td>\n",
       "      <td>0.00468</td>\n",
       "      <td>0.652</td>\n",
       "      <td>-1.0</td>\n",
       "      <td>0.941</td>\n",
       "      <td>0.79200</td>\n",
       "      <td>0.115</td>\n",
       "      <td>-5.201</td>\n",
       "      <td>0.0748</td>\n",
       "      <td>100.889</td>\n",
       "      <td>...</td>\n",
       "      <td>0</td>\n",
       "      <td>0</td>\n",
       "      <td>0</td>\n",
       "      <td>0</td>\n",
       "      <td>0</td>\n",
       "      <td>0</td>\n",
       "      <td>0</td>\n",
       "      <td>0</td>\n",
       "      <td>0</td>\n",
       "      <td>1</td>\n",
       "    </tr>\n",
       "    <tr>\n",
       "      <th>1</th>\n",
       "      <td>31.0</td>\n",
       "      <td>0.01270</td>\n",
       "      <td>0.622</td>\n",
       "      <td>218293.0</td>\n",
       "      <td>0.890</td>\n",
       "      <td>0.95000</td>\n",
       "      <td>0.124</td>\n",
       "      <td>-7.043</td>\n",
       "      <td>0.0300</td>\n",
       "      <td>115.002</td>\n",
       "      <td>...</td>\n",
       "      <td>0</td>\n",
       "      <td>0</td>\n",
       "      <td>1</td>\n",
       "      <td>0</td>\n",
       "      <td>0</td>\n",
       "      <td>0</td>\n",
       "      <td>0</td>\n",
       "      <td>0</td>\n",
       "      <td>0</td>\n",
       "      <td>1</td>\n",
       "    </tr>\n",
       "    <tr>\n",
       "      <th>2</th>\n",
       "      <td>28.0</td>\n",
       "      <td>0.00306</td>\n",
       "      <td>0.620</td>\n",
       "      <td>215613.0</td>\n",
       "      <td>0.755</td>\n",
       "      <td>0.01180</td>\n",
       "      <td>0.534</td>\n",
       "      <td>-4.617</td>\n",
       "      <td>0.0345</td>\n",
       "      <td>127.994</td>\n",
       "      <td>...</td>\n",
       "      <td>0</td>\n",
       "      <td>0</td>\n",
       "      <td>0</td>\n",
       "      <td>0</td>\n",
       "      <td>0</td>\n",
       "      <td>0</td>\n",
       "      <td>0</td>\n",
       "      <td>0</td>\n",
       "      <td>1</td>\n",
       "      <td>0</td>\n",
       "    </tr>\n",
       "    <tr>\n",
       "      <th>3</th>\n",
       "      <td>34.0</td>\n",
       "      <td>0.02540</td>\n",
       "      <td>0.774</td>\n",
       "      <td>166875.0</td>\n",
       "      <td>0.700</td>\n",
       "      <td>0.00253</td>\n",
       "      <td>0.157</td>\n",
       "      <td>-4.498</td>\n",
       "      <td>0.2390</td>\n",
       "      <td>128.014</td>\n",
       "      <td>...</td>\n",
       "      <td>0</td>\n",
       "      <td>1</td>\n",
       "      <td>0</td>\n",
       "      <td>0</td>\n",
       "      <td>0</td>\n",
       "      <td>0</td>\n",
       "      <td>0</td>\n",
       "      <td>0</td>\n",
       "      <td>0</td>\n",
       "      <td>0</td>\n",
       "    </tr>\n",
       "    <tr>\n",
       "      <th>4</th>\n",
       "      <td>32.0</td>\n",
       "      <td>0.00465</td>\n",
       "      <td>0.638</td>\n",
       "      <td>222369.0</td>\n",
       "      <td>0.587</td>\n",
       "      <td>0.90900</td>\n",
       "      <td>0.157</td>\n",
       "      <td>-6.266</td>\n",
       "      <td>0.0413</td>\n",
       "      <td>145.036</td>\n",
       "      <td>...</td>\n",
       "      <td>0</td>\n",
       "      <td>0</td>\n",
       "      <td>0</td>\n",
       "      <td>0</td>\n",
       "      <td>0</td>\n",
       "      <td>0</td>\n",
       "      <td>1</td>\n",
       "      <td>0</td>\n",
       "      <td>0</td>\n",
       "      <td>0</td>\n",
       "    </tr>\n",
       "  </tbody>\n",
       "</table>\n",
       "<p>5 rows × 23 columns</p>\n",
       "</div>"
      ],
      "text/plain": [
       "   popularity  acousticness  danceability  duration_ms  energy  \\\n",
       "0        27.0       0.00468         0.652         -1.0   0.941   \n",
       "1        31.0       0.01270         0.622     218293.0   0.890   \n",
       "2        28.0       0.00306         0.620     215613.0   0.755   \n",
       "3        34.0       0.02540         0.774     166875.0   0.700   \n",
       "4        32.0       0.00465         0.638     222369.0   0.587   \n",
       "\n",
       "   instrumentalness  liveness  loudness  speechiness    tempo  ...  key_C  \\\n",
       "0           0.79200     0.115    -5.201       0.0748  100.889  ...      0   \n",
       "1           0.95000     0.124    -7.043       0.0300  115.002  ...      0   \n",
       "2           0.01180     0.534    -4.617       0.0345  127.994  ...      0   \n",
       "3           0.00253     0.157    -4.498       0.2390  128.014  ...      0   \n",
       "4           0.90900     0.157    -6.266       0.0413  145.036  ...      0   \n",
       "\n",
       "   key_C#  key_D  key_D#  key_E  key_F  key_F#  key_G  key_G#  mode_Minor  \n",
       "0       0      0       0      0      0       0      0       0           1  \n",
       "1       0      1       0      0      0       0      0       0           1  \n",
       "2       0      0       0      0      0       0      0       1           0  \n",
       "3       1      0       0      0      0       0      0       0           0  \n",
       "4       0      0       0      0      0       1      0       0           0  \n",
       "\n",
       "[5 rows x 23 columns]"
      ]
     },
     "execution_count": 15,
     "metadata": {},
     "output_type": "execute_result"
    }
   ],
   "source": [
    "df = pd.get_dummies(df, drop_first=True)\n",
    "df.head()\n"
   ]
  },
  {
   "cell_type": "markdown",
   "id": "fb9b56e7",
   "metadata": {},
   "source": [
    "> l'encodage One-Hot créera une nouvelle colonne pour chaque catégorie unique des données catégorielles, avec des 1 et des 0 indiquant la présence d'une catégorie pour chaque observation "
   ]
  },
  {
   "cell_type": "markdown",
   "id": "2fbde3dd",
   "metadata": {},
   "source": [
    "## <span style=\"color:rgb(25,25,112)\">Classification Hiérarchique</span>"
   ]
  },
  {
   "cell_type": "markdown",
   "id": "d3b0cd33",
   "metadata": {},
   "source": [
    "**Création d'un sous-ensemble de données**"
   ]
  },
  {
   "cell_type": "code",
   "execution_count": 16,
   "id": "f08c0037",
   "metadata": {},
   "outputs": [],
   "source": [
    "# Sous-ensemble aléatoire de 3500 instances\n",
    "df_sample = df.sample(n=3500, random_state=42)"
   ]
  },
  {
   "cell_type": "markdown",
   "id": "7e0ff940",
   "metadata": {},
   "source": [
    "**Dendrogramme**"
   ]
  },
  {
   "cell_type": "code",
   "execution_count": 18,
   "id": "347b715e",
   "metadata": {},
   "outputs": [
    {
     "data": {
      "image/png": "[encoded data removed]",
      "text/plain": [
       "<Figure size 1000x700 with 1 Axes>"
      ]
     },
     "metadata": {},
     "output_type": "display_data"
    }
   ],
   "source": [
    "# Classification hiérarchique sur ce sous-ensemble\n",
    "linked_sample = linkage(df_sample, method='ward')\n",
    "\n",
    "# Affichage du dendrogramme pour le sous-ensemble\n",
    "plt.figure(figsize=(10, 7))\n",
    "dendrogram(linked_sample, orientation='top', distance_sort='descending', show_leaf_counts=True)\n",
    "plt.title('Dendrogramme de la Classification Hiérarchique (Sous-ensemble)')\n",
    "plt.xlabel('Index des Échantillons')\n",
    "plt.ylabel('Distance')\n",
    "plt.show()\n"
   ]
  },
  {
   "cell_type": "markdown",
   "id": "5c536a3b",
   "metadata": {},
   "source": [
    ">Pour gérer la complexité computationnelle de la classification hiérarchique sur notre large dataset (50 005 lignes), nous avons sélectionné un échantillon représentatif de 3500 lignes. Cette approche permet une analyse plus rapide et plus efficace tout en conservant les caractéristiques essentielles de la distribution des données."
   ]
  },
  {
   "cell_type": "markdown",
   "id": "f1f66da3",
   "metadata": {},
   "source": [
    "**Interpretation dendrogramme**"
   ]
  },
  {
   "attachments": {
    "graph2.png": {
     "image/png": "[encoded data removed]"
    }
   },
   "cell_type": "markdown",
   "id": "665a8119",
   "metadata": {},
   "source": [
    "![graph2.png](attachment:graph2.png)"
   ]
  },
  {
   "cell_type": "markdown",
   "id": "3c16c737",
   "metadata": {},
   "source": [
    ">Le dendrogramme suggère que quatre clusters fournissent une séparation claire et significative des données, avec des distances de fusion montrant des distinctions nettes entre les groupes. "
   ]
  },
  {
   "cell_type": "markdown",
   "id": "9e4b63e8",
   "metadata": {},
   "source": [
    " **Classification hiérarchique agglomérative**"
   ]
  },
  {
   "cell_type": "code",
   "execution_count": 36,
   "id": "ec7ce81e",
   "metadata": {},
   "outputs": [
    {
     "name": "stdout",
     "output_type": "stream",
     "text": [
      "Terminé\n"
     ]
    }
   ],
   "source": [
    "from sklearn.cluster import AgglomerativeClustering\n",
    "\n",
    "# Créer une instance avec le nombre de clusters déterminé\n",
    "agg_cluster = AgglomerativeClustering(n_clusters=3, affinity='euclidean', linkage='ward')\n",
    "\n",
    "# Ajuster le modèle aux données et prédire les clusters\n",
    "cluster_labels = agg_cluster.fit_predict(df_sample)\n",
    "\n",
    "# Ajouter les étiquettes de cluster au DataFrame pour analyse\n",
    "df_sample['Cluster_Hierarch'] = cluster_labels\n",
    "\n",
    "print(\"Terminé\")"
   ]
  },
  {
   "cell_type": "markdown",
   "id": "32a1b985",
   "metadata": {},
   "source": [
    "**Score moyen de silhouette**"
   ]
  },
  {
   "cell_type": "code",
   "execution_count": 37,
   "id": "853c3baf",
   "metadata": {},
   "outputs": [
    {
     "name": "stdout",
     "output_type": "stream",
     "text": [
      "Le score moyen de silhouette pour les clusters hiérarchiques est : 0.6485506087213286\n"
     ]
    }
   ],
   "source": [
    "from sklearn.metrics import silhouette_score\n",
    "\n",
    "silhouette_avg = silhouette_score(df_sample.drop(['Cluster_Hierarch'], axis=1), df_sample['Cluster_Hierarch'])\n",
    "print(f\"Le score moyen de silhouette pour les clusters hiérarchiques est : {silhouette_avg}\")\n"
   ]
  },
  {
   "cell_type": "markdown",
   "id": "7e46b735",
   "metadata": {},
   "source": [
    "<ul>\n",
    "    <li>k=2 : 0.6442967179405317</li>\n",
    "    <li>k=3 : 0.6485506087213286</li>\n",
    "    <li>k=4 : 0.6400693006097254</li>\n",
    "    <li>k=5 : 0.549684630230513</li>\n",
    "    <li>k=6 : 0.5524035607512758</li>\n",
    "    <li>k=7 : 0.5439624827262517</li>\n",
    "</ul>"
   ]
  },
  {
   "cell_type": "markdown",
   "id": "43418eac",
   "metadata": {},
   "source": [
    ">Nous avons opté pour quatre clusters car le dendrogramme indiquait clairement cette segmentation et les scores de silhouette étaient comparativement élevés et proches les uns des autres, ce qui suggère que le choix de quatre ne compromet pas significativement la qualité du clustering."
   ]
  }
 ],
 "metadata": {
  "celltoolbar": "Aucun(e)",
  "kernelspec": {
   "display_name": "Python 3 (ipykernel)",
   "language": "python",
   "name": "python3"
  },
  "language_info": {
   "codemirror_mode": {
    "name": "ipython",
    "version": 3
   },
   "file_extension": ".py",
   "mimetype": "text/x-python",
   "name": "python",
   "nbconvert_exporter": "python",
   "pygments_lexer": "ipython3",
   "version": "3.9.13"
  },
  "widgets": {
   "application/vnd.jupyter.widget-state+json": {
    "state": {},
    "version_major": 2,
    "version_minor": 0
   }
  }
 },
 "nbformat": 4,
 "nbformat_minor": 5
}
