{
 "cells": [
  {
   "cell_type": "markdown",
   "id": "0586b81b",
   "metadata": {},
   "source": [
    "## <span style=\"color:rgb(25,25,112)\">Import des bibliotheques</span>\n"
   ]
  },
  {
   "cell_type": "code",
   "execution_count": 1,
   "id": "9db064bc",
   "metadata": {},
   "outputs": [],
   "source": [
    "import pandas as pd\n",
    "import numpy as np\n",
    "import matplotlib.pyplot as plt\n",
    "from sklearn.cluster import KMeans\n",
    "from sklearn.impute import SimpleImputer\n",
    "from sklearn.preprocessing import StandardScaler\n",
    "from sklearn.metrics import silhouette_score\n",
    "import seaborn as sns\n",
    "%matplotlib inline"
   ]
  },
  {
   "cell_type": "markdown",
   "id": "60b73513",
   "metadata": {},
   "source": [
    "## <span style=\"color:rgb(25,25,112)\">Import du fichier CSV</span>\n"
   ]
  },
  {
   "cell_type": "code",
   "execution_count": 2,
   "id": "35c7244e",
   "metadata": {},
   "outputs": [],
   "source": [
    "df = pd.read_csv('music_genre.csv', header=0)"
   ]
  },
  {
   "cell_type": "markdown",
   "id": "08820db8",
   "metadata": {},
   "source": [
    "**Premières 5 lignes de notre DataFrame**"
   ]
  },
  {
   "cell_type": "code",
   "execution_count": 3,
   "id": "51216900",
   "metadata": {},
   "outputs": [
    {
     "data": {
      "text/html": [
       "<div>\n",
       "<style scoped>\n",
       "    .dataframe tbody tr th:only-of-type {\n",
       "        vertical-align: middle;\n",
       "    }\n",
       "\n",
       "    .dataframe tbody tr th {\n",
       "        vertical-align: top;\n",
       "    }\n",
       "\n",
       "    .dataframe thead th {\n",
       "        text-align: right;\n",
       "    }\n",
       "</style>\n",
       "<table border=\"1\" class=\"dataframe\">\n",
       "  <thead>\n",
       "    <tr style=\"text-align: right;\">\n",
       "      <th></th>\n",
       "      <th>instance_id</th>\n",
       "      <th>artist_name</th>\n",
       "      <th>track_name</th>\n",
       "      <th>popularity</th>\n",
       "      <th>acousticness</th>\n",
       "      <th>danceability</th>\n",
       "      <th>duration_ms</th>\n",
       "      <th>energy</th>\n",
       "      <th>instrumentalness</th>\n",
       "      <th>key</th>\n",
       "      <th>liveness</th>\n",
       "      <th>loudness</th>\n",
       "      <th>mode</th>\n",
       "      <th>speechiness</th>\n",
       "      <th>tempo</th>\n",
       "      <th>obtained_date</th>\n",
       "      <th>valence</th>\n",
       "      <th>music_genre</th>\n",
       "    </tr>\n",
       "  </thead>\n",
       "  <tbody>\n",
       "    <tr>\n",
       "      <th>0</th>\n",
       "      <td>32894.0</td>\n",
       "      <td>Röyksopp</td>\n",
       "      <td>Röyksopp's Night Out</td>\n",
       "      <td>27.0</td>\n",
       "      <td>0.00468</td>\n",
       "      <td>0.652</td>\n",
       "      <td>-1.0</td>\n",
       "      <td>0.941</td>\n",
       "      <td>0.79200</td>\n",
       "      <td>A#</td>\n",
       "      <td>0.115</td>\n",
       "      <td>-5.201</td>\n",
       "      <td>Minor</td>\n",
       "      <td>0.0748</td>\n",
       "      <td>100.889</td>\n",
       "      <td>4-Apr</td>\n",
       "      <td>0.759</td>\n",
       "      <td>Electronic</td>\n",
       "    </tr>\n",
       "    <tr>\n",
       "      <th>1</th>\n",
       "      <td>46652.0</td>\n",
       "      <td>Thievery Corporation</td>\n",
       "      <td>The Shining Path</td>\n",
       "      <td>31.0</td>\n",
       "      <td>0.01270</td>\n",
       "      <td>0.622</td>\n",
       "      <td>218293.0</td>\n",
       "      <td>0.890</td>\n",
       "      <td>0.95000</td>\n",
       "      <td>D</td>\n",
       "      <td>0.124</td>\n",
       "      <td>-7.043</td>\n",
       "      <td>Minor</td>\n",
       "      <td>0.0300</td>\n",
       "      <td>115.00200000000001</td>\n",
       "      <td>4-Apr</td>\n",
       "      <td>0.531</td>\n",
       "      <td>Electronic</td>\n",
       "    </tr>\n",
       "    <tr>\n",
       "      <th>2</th>\n",
       "      <td>30097.0</td>\n",
       "      <td>Dillon Francis</td>\n",
       "      <td>Hurricane</td>\n",
       "      <td>28.0</td>\n",
       "      <td>0.00306</td>\n",
       "      <td>0.620</td>\n",
       "      <td>215613.0</td>\n",
       "      <td>0.755</td>\n",
       "      <td>0.01180</td>\n",
       "      <td>G#</td>\n",
       "      <td>0.534</td>\n",
       "      <td>-4.617</td>\n",
       "      <td>Major</td>\n",
       "      <td>0.0345</td>\n",
       "      <td>127.994</td>\n",
       "      <td>4-Apr</td>\n",
       "      <td>0.333</td>\n",
       "      <td>Electronic</td>\n",
       "    </tr>\n",
       "    <tr>\n",
       "      <th>3</th>\n",
       "      <td>62177.0</td>\n",
       "      <td>Dubloadz</td>\n",
       "      <td>Nitro</td>\n",
       "      <td>34.0</td>\n",
       "      <td>0.02540</td>\n",
       "      <td>0.774</td>\n",
       "      <td>166875.0</td>\n",
       "      <td>0.700</td>\n",
       "      <td>0.00253</td>\n",
       "      <td>C#</td>\n",
       "      <td>0.157</td>\n",
       "      <td>-4.498</td>\n",
       "      <td>Major</td>\n",
       "      <td>0.2390</td>\n",
       "      <td>128.014</td>\n",
       "      <td>4-Apr</td>\n",
       "      <td>0.270</td>\n",
       "      <td>Electronic</td>\n",
       "    </tr>\n",
       "    <tr>\n",
       "      <th>4</th>\n",
       "      <td>24907.0</td>\n",
       "      <td>What So Not</td>\n",
       "      <td>Divide &amp; Conquer</td>\n",
       "      <td>32.0</td>\n",
       "      <td>0.00465</td>\n",
       "      <td>0.638</td>\n",
       "      <td>222369.0</td>\n",
       "      <td>0.587</td>\n",
       "      <td>0.90900</td>\n",
       "      <td>F#</td>\n",
       "      <td>0.157</td>\n",
       "      <td>-6.266</td>\n",
       "      <td>Major</td>\n",
       "      <td>0.0413</td>\n",
       "      <td>145.036</td>\n",
       "      <td>4-Apr</td>\n",
       "      <td>0.323</td>\n",
       "      <td>Electronic</td>\n",
       "    </tr>\n",
       "  </tbody>\n",
       "</table>\n",
       "</div>"
      ],
      "text/plain": [
       "   instance_id           artist_name            track_name  popularity  \\\n",
       "0      32894.0              Röyksopp  Röyksopp's Night Out        27.0   \n",
       "1      46652.0  Thievery Corporation      The Shining Path        31.0   \n",
       "2      30097.0        Dillon Francis             Hurricane        28.0   \n",
       "3      62177.0              Dubloadz                 Nitro        34.0   \n",
       "4      24907.0           What So Not      Divide & Conquer        32.0   \n",
       "\n",
       "   acousticness  danceability  duration_ms  energy  instrumentalness key  \\\n",
       "0       0.00468         0.652         -1.0   0.941           0.79200  A#   \n",
       "1       0.01270         0.622     218293.0   0.890           0.95000   D   \n",
       "2       0.00306         0.620     215613.0   0.755           0.01180  G#   \n",
       "3       0.02540         0.774     166875.0   0.700           0.00253  C#   \n",
       "4       0.00465         0.638     222369.0   0.587           0.90900  F#   \n",
       "\n",
       "   liveness  loudness   mode  speechiness               tempo obtained_date  \\\n",
       "0     0.115    -5.201  Minor       0.0748             100.889         4-Apr   \n",
       "1     0.124    -7.043  Minor       0.0300  115.00200000000001         4-Apr   \n",
       "2     0.534    -4.617  Major       0.0345             127.994         4-Apr   \n",
       "3     0.157    -4.498  Major       0.2390             128.014         4-Apr   \n",
       "4     0.157    -6.266  Major       0.0413             145.036         4-Apr   \n",
       "\n",
       "   valence music_genre  \n",
       "0    0.759  Electronic  \n",
       "1    0.531  Electronic  \n",
       "2    0.333  Electronic  \n",
       "3    0.270  Electronic  \n",
       "4    0.323  Electronic  "
      ]
     },
     "execution_count": 3,
     "metadata": {},
     "output_type": "execute_result"
    }
   ],
   "source": [
    "df.head()"
   ]
  },
  {
   "cell_type": "markdown",
   "id": "3475f315",
   "metadata": {},
   "source": [
    "**Info sur les colonnes**"
   ]
  },
  {
   "cell_type": "code",
   "execution_count": 4,
   "id": "81c0491b",
   "metadata": {
    "scrolled": true
   },
   "outputs": [
    {
     "name": "stdout",
     "output_type": "stream",
     "text": [
      "<class 'pandas.core.frame.DataFrame'>\n",
      "RangeIndex: 50005 entries, 0 to 50004\n",
      "Data columns (total 18 columns):\n",
      " #   Column            Non-Null Count  Dtype  \n",
      "---  ------            --------------  -----  \n",
      " 0   instance_id       50000 non-null  float64\n",
      " 1   artist_name       50000 non-null  object \n",
      " 2   track_name        50000 non-null  object \n",
      " 3   popularity        50000 non-null  float64\n",
      " 4   acousticness      50000 non-null  float64\n",
      " 5   danceability      50000 non-null  float64\n",
      " 6   duration_ms       50000 non-null  float64\n",
      " 7   energy            50000 non-null  float64\n",
      " 8   instrumentalness  50000 non-null  float64\n",
      " 9   key               50000 non-null  object \n",
      " 10  liveness          50000 non-null  float64\n",
      " 11  loudness          50000 non-null  float64\n",
      " 12  mode              50000 non-null  object \n",
      " 13  speechiness       50000 non-null  float64\n",
      " 14  tempo             50000 non-null  object \n",
      " 15  obtained_date     50000 non-null  object \n",
      " 16  valence           50000 non-null  float64\n",
      " 17  music_genre       50000 non-null  object \n",
      "dtypes: float64(11), object(7)\n",
      "memory usage: 6.9+ MB\n"
     ]
    }
   ],
   "source": [
    "df.info()"
   ]
  },
  {
   "cell_type": "markdown",
   "id": "dfedf13b",
   "metadata": {},
   "source": [
    "**Obtenir des statistiques de base sur les données <span style=\"color:red\">numériques</span> :**"
   ]
  },
  {
   "cell_type": "code",
   "execution_count": 5,
   "id": "ea4952ea",
   "metadata": {},
   "outputs": [
    {
     "data": {
      "text/html": [
       "<div>\n",
       "<style scoped>\n",
       "    .dataframe tbody tr th:only-of-type {\n",
       "        vertical-align: middle;\n",
       "    }\n",
       "\n",
       "    .dataframe tbody tr th {\n",
       "        vertical-align: top;\n",
       "    }\n",
       "\n",
       "    .dataframe thead th {\n",
       "        text-align: right;\n",
       "    }\n",
       "</style>\n",
       "<table border=\"1\" class=\"dataframe\">\n",
       "  <thead>\n",
       "    <tr style=\"text-align: right;\">\n",
       "      <th></th>\n",
       "      <th>instance_id</th>\n",
       "      <th>popularity</th>\n",
       "      <th>acousticness</th>\n",
       "      <th>danceability</th>\n",
       "      <th>duration_ms</th>\n",
       "      <th>energy</th>\n",
       "      <th>instrumentalness</th>\n",
       "      <th>liveness</th>\n",
       "      <th>loudness</th>\n",
       "      <th>speechiness</th>\n",
       "      <th>valence</th>\n",
       "    </tr>\n",
       "  </thead>\n",
       "  <tbody>\n",
       "    <tr>\n",
       "      <th>count</th>\n",
       "      <td>50000.000000</td>\n",
       "      <td>50000.000000</td>\n",
       "      <td>50000.000000</td>\n",
       "      <td>50000.000000</td>\n",
       "      <td>5.000000e+04</td>\n",
       "      <td>50000.000000</td>\n",
       "      <td>50000.000000</td>\n",
       "      <td>50000.000000</td>\n",
       "      <td>50000.000000</td>\n",
       "      <td>50000.000000</td>\n",
       "      <td>50000.000000</td>\n",
       "    </tr>\n",
       "    <tr>\n",
       "      <th>mean</th>\n",
       "      <td>55888.396360</td>\n",
       "      <td>44.220420</td>\n",
       "      <td>0.306383</td>\n",
       "      <td>0.558241</td>\n",
       "      <td>2.212526e+05</td>\n",
       "      <td>0.599755</td>\n",
       "      <td>0.181601</td>\n",
       "      <td>0.193896</td>\n",
       "      <td>-9.133761</td>\n",
       "      <td>0.093586</td>\n",
       "      <td>0.456264</td>\n",
       "    </tr>\n",
       "    <tr>\n",
       "      <th>std</th>\n",
       "      <td>20725.256253</td>\n",
       "      <td>15.542008</td>\n",
       "      <td>0.341340</td>\n",
       "      <td>0.178632</td>\n",
       "      <td>1.286720e+05</td>\n",
       "      <td>0.264559</td>\n",
       "      <td>0.325409</td>\n",
       "      <td>0.161637</td>\n",
       "      <td>6.162990</td>\n",
       "      <td>0.101373</td>\n",
       "      <td>0.247119</td>\n",
       "    </tr>\n",
       "    <tr>\n",
       "      <th>min</th>\n",
       "      <td>20002.000000</td>\n",
       "      <td>0.000000</td>\n",
       "      <td>0.000000</td>\n",
       "      <td>0.059600</td>\n",
       "      <td>-1.000000e+00</td>\n",
       "      <td>0.000792</td>\n",
       "      <td>0.000000</td>\n",
       "      <td>0.009670</td>\n",
       "      <td>-47.046000</td>\n",
       "      <td>0.022300</td>\n",
       "      <td>0.000000</td>\n",
       "    </tr>\n",
       "    <tr>\n",
       "      <th>25%</th>\n",
       "      <td>37973.500000</td>\n",
       "      <td>34.000000</td>\n",
       "      <td>0.020000</td>\n",
       "      <td>0.442000</td>\n",
       "      <td>1.748000e+05</td>\n",
       "      <td>0.433000</td>\n",
       "      <td>0.000000</td>\n",
       "      <td>0.096900</td>\n",
       "      <td>-10.860000</td>\n",
       "      <td>0.036100</td>\n",
       "      <td>0.257000</td>\n",
       "    </tr>\n",
       "    <tr>\n",
       "      <th>50%</th>\n",
       "      <td>55913.500000</td>\n",
       "      <td>45.000000</td>\n",
       "      <td>0.144000</td>\n",
       "      <td>0.568000</td>\n",
       "      <td>2.192810e+05</td>\n",
       "      <td>0.643000</td>\n",
       "      <td>0.000158</td>\n",
       "      <td>0.126000</td>\n",
       "      <td>-7.276500</td>\n",
       "      <td>0.048900</td>\n",
       "      <td>0.448000</td>\n",
       "    </tr>\n",
       "    <tr>\n",
       "      <th>75%</th>\n",
       "      <td>73863.250000</td>\n",
       "      <td>56.000000</td>\n",
       "      <td>0.552000</td>\n",
       "      <td>0.687000</td>\n",
       "      <td>2.686122e+05</td>\n",
       "      <td>0.815000</td>\n",
       "      <td>0.155000</td>\n",
       "      <td>0.244000</td>\n",
       "      <td>-5.173000</td>\n",
       "      <td>0.098525</td>\n",
       "      <td>0.648000</td>\n",
       "    </tr>\n",
       "    <tr>\n",
       "      <th>max</th>\n",
       "      <td>91759.000000</td>\n",
       "      <td>99.000000</td>\n",
       "      <td>0.996000</td>\n",
       "      <td>0.986000</td>\n",
       "      <td>4.830606e+06</td>\n",
       "      <td>0.999000</td>\n",
       "      <td>0.996000</td>\n",
       "      <td>1.000000</td>\n",
       "      <td>3.744000</td>\n",
       "      <td>0.942000</td>\n",
       "      <td>0.992000</td>\n",
       "    </tr>\n",
       "  </tbody>\n",
       "</table>\n",
       "</div>"
      ],
      "text/plain": [
       "        instance_id    popularity  acousticness  danceability   duration_ms  \\\n",
       "count  50000.000000  50000.000000  50000.000000  50000.000000  5.000000e+04   \n",
       "mean   55888.396360     44.220420      0.306383      0.558241  2.212526e+05   \n",
       "std    20725.256253     15.542008      0.341340      0.178632  1.286720e+05   \n",
       "min    20002.000000      0.000000      0.000000      0.059600 -1.000000e+00   \n",
       "25%    37973.500000     34.000000      0.020000      0.442000  1.748000e+05   \n",
       "50%    55913.500000     45.000000      0.144000      0.568000  2.192810e+05   \n",
       "75%    73863.250000     56.000000      0.552000      0.687000  2.686122e+05   \n",
       "max    91759.000000     99.000000      0.996000      0.986000  4.830606e+06   \n",
       "\n",
       "             energy  instrumentalness      liveness      loudness  \\\n",
       "count  50000.000000      50000.000000  50000.000000  50000.000000   \n",
       "mean       0.599755          0.181601      0.193896     -9.133761   \n",
       "std        0.264559          0.325409      0.161637      6.162990   \n",
       "min        0.000792          0.000000      0.009670    -47.046000   \n",
       "25%        0.433000          0.000000      0.096900    -10.860000   \n",
       "50%        0.643000          0.000158      0.126000     -7.276500   \n",
       "75%        0.815000          0.155000      0.244000     -5.173000   \n",
       "max        0.999000          0.996000      1.000000      3.744000   \n",
       "\n",
       "        speechiness       valence  \n",
       "count  50000.000000  50000.000000  \n",
       "mean       0.093586      0.456264  \n",
       "std        0.101373      0.247119  \n",
       "min        0.022300      0.000000  \n",
       "25%        0.036100      0.257000  \n",
       "50%        0.048900      0.448000  \n",
       "75%        0.098525      0.648000  \n",
       "max        0.942000      0.992000  "
      ]
     },
     "execution_count": 5,
     "metadata": {},
     "output_type": "execute_result"
    }
   ],
   "source": [
    "df.describe()"
   ]
  },
  {
   "cell_type": "markdown",
   "id": "ad59cd04",
   "metadata": {},
   "source": [
    "**Obtenir des statistiques de base sur les données <span style=\"color:red\">qualitatives</span> :**"
   ]
  },
  {
   "cell_type": "code",
   "execution_count": 6,
   "id": "9aae1986",
   "metadata": {
    "scrolled": true
   },
   "outputs": [
    {
     "data": {
      "text/html": [
       "<div>\n",
       "<style scoped>\n",
       "    .dataframe tbody tr th:only-of-type {\n",
       "        vertical-align: middle;\n",
       "    }\n",
       "\n",
       "    .dataframe tbody tr th {\n",
       "        vertical-align: top;\n",
       "    }\n",
       "\n",
       "    .dataframe thead th {\n",
       "        text-align: right;\n",
       "    }\n",
       "</style>\n",
       "<table border=\"1\" class=\"dataframe\">\n",
       "  <thead>\n",
       "    <tr style=\"text-align: right;\">\n",
       "      <th></th>\n",
       "      <th>artist_name</th>\n",
       "      <th>track_name</th>\n",
       "      <th>key</th>\n",
       "      <th>mode</th>\n",
       "      <th>tempo</th>\n",
       "      <th>obtained_date</th>\n",
       "      <th>music_genre</th>\n",
       "    </tr>\n",
       "  </thead>\n",
       "  <tbody>\n",
       "    <tr>\n",
       "      <th>count</th>\n",
       "      <td>50000</td>\n",
       "      <td>50000</td>\n",
       "      <td>50000</td>\n",
       "      <td>50000</td>\n",
       "      <td>50000</td>\n",
       "      <td>50000</td>\n",
       "      <td>50000</td>\n",
       "    </tr>\n",
       "    <tr>\n",
       "      <th>unique</th>\n",
       "      <td>6863</td>\n",
       "      <td>41699</td>\n",
       "      <td>12</td>\n",
       "      <td>2</td>\n",
       "      <td>29394</td>\n",
       "      <td>5</td>\n",
       "      <td>10</td>\n",
       "    </tr>\n",
       "    <tr>\n",
       "      <th>top</th>\n",
       "      <td>empty_field</td>\n",
       "      <td>Home</td>\n",
       "      <td>G</td>\n",
       "      <td>Major</td>\n",
       "      <td>?</td>\n",
       "      <td>4-Apr</td>\n",
       "      <td>Electronic</td>\n",
       "    </tr>\n",
       "    <tr>\n",
       "      <th>freq</th>\n",
       "      <td>2489</td>\n",
       "      <td>16</td>\n",
       "      <td>5727</td>\n",
       "      <td>32099</td>\n",
       "      <td>4980</td>\n",
       "      <td>44748</td>\n",
       "      <td>5000</td>\n",
       "    </tr>\n",
       "  </tbody>\n",
       "</table>\n",
       "</div>"
      ],
      "text/plain": [
       "        artist_name track_name    key   mode  tempo obtained_date music_genre\n",
       "count         50000      50000  50000  50000  50000         50000       50000\n",
       "unique         6863      41699     12      2  29394             5          10\n",
       "top     empty_field       Home      G  Major      ?         4-Apr  Electronic\n",
       "freq           2489         16   5727  32099   4980         44748        5000"
      ]
     },
     "execution_count": 6,
     "metadata": {},
     "output_type": "execute_result"
    }
   ],
   "source": [
    "df.describe(include = object)"
   ]
  },
  {
   "cell_type": "markdown",
   "id": "370c5383",
   "metadata": {},
   "source": [
    "> Les valeurs `empty_field` et `?` dans le dataset sont traitées comme des chaînes valides au lieu de valeurs manquantes, nécessitant leur conversion en `NaN` pour une gestion correcte."
   ]
  },
  {
   "cell_type": "markdown",
   "id": "0bc77351",
   "metadata": {},
   "source": [
    "## <span style=\"color:rgb(25,25,112)\">Préparation de données</span>\n"
   ]
  },
  {
   "cell_type": "markdown",
   "id": "cfdf3711",
   "metadata": {},
   "source": [
    "**Compte du nombre de valeurs manquantes par colonne (<span style=\"color:green\">avant</span> remplacement de <span style=\"color:red\">empty_field</span> et <span style=\"color:red\">?</span>)**"
   ]
  },
  {
   "cell_type": "code",
   "execution_count": 7,
   "id": "3d4bd438",
   "metadata": {},
   "outputs": [
    {
     "data": {
      "text/plain": [
       "instance_id         5\n",
       "artist_name         5\n",
       "track_name          5\n",
       "popularity          5\n",
       "acousticness        5\n",
       "danceability        5\n",
       "duration_ms         5\n",
       "energy              5\n",
       "instrumentalness    5\n",
       "key                 5\n",
       "liveness            5\n",
       "loudness            5\n",
       "mode                5\n",
       "speechiness         5\n",
       "tempo               5\n",
       "obtained_date       5\n",
       "valence             5\n",
       "music_genre         5\n",
       "dtype: int64"
      ]
     },
     "execution_count": 7,
     "metadata": {},
     "output_type": "execute_result"
    }
   ],
   "source": [
    "df.isnull().sum()"
   ]
  },
  {
   "cell_type": "markdown",
   "id": "170cee75",
   "metadata": {},
   "source": [
    "**Remplacement de <span style=\"color:red\">empty_field</span> et <span style=\"color:red\">?</span>**"
   ]
  },
  {
   "cell_type": "code",
   "execution_count": 8,
   "id": "4ea5d7f0",
   "metadata": {},
   "outputs": [],
   "source": [
    "df.replace(['empty_field', '?'], np.nan, inplace=True)"
   ]
  },
  {
   "cell_type": "markdown",
   "id": "22d18e77",
   "metadata": {},
   "source": [
    "**Compte du nombre de valeurs manquantes par colonne (<span style=\"color:green\">après</span> remplacement de <span style=\"color:red\">empty_field</span> et <span style=\"color:red\">?</span>)**"
   ]
  },
  {
   "cell_type": "code",
   "execution_count": 9,
   "id": "144d4873",
   "metadata": {
    "scrolled": true
   },
   "outputs": [
    {
     "data": {
      "text/plain": [
       "instance_id            5\n",
       "artist_name         2494\n",
       "track_name             5\n",
       "popularity             5\n",
       "acousticness           5\n",
       "danceability           5\n",
       "duration_ms            5\n",
       "energy                 5\n",
       "instrumentalness       5\n",
       "key                    5\n",
       "liveness               5\n",
       "loudness               5\n",
       "mode                   5\n",
       "speechiness            5\n",
       "tempo               4985\n",
       "obtained_date          5\n",
       "valence                5\n",
       "music_genre            5\n",
       "dtype: int64"
      ]
     },
     "execution_count": 9,
     "metadata": {},
     "output_type": "execute_result"
    }
   ],
   "source": [
    "df.isnull().sum()"
   ]
  },
  {
   "cell_type": "markdown",
   "id": "f754cc8c",
   "metadata": {},
   "source": [
    "**Remplacement sur les données <span style=\"color:red\">numériques</span> :**"
   ]
  },
  {
   "cell_type": "code",
   "execution_count": 10,
   "id": "a3d5a2d3",
   "metadata": {},
   "outputs": [],
   "source": [
    "# Création d'un impute pour remplacer les valeurs manquantes des colonnes numériques\n",
    "imputer_num = SimpleImputer(strategy=\"median\")\n",
    "\n",
    "# Sélection\n",
    "numerical_cols = df.select_dtypes(include=['float64']).columns\n",
    "\n",
    "# Application de l'impute sur les colonnes numériques\n",
    "df[numerical_cols] = imputer_num.fit_transform(df[numerical_cols])\n"
   ]
  },
  {
   "cell_type": "markdown",
   "id": "3a0425ec",
   "metadata": {},
   "source": [
    "**Remplacement sur les données <span style=\"color:red\">qualitatives/catégoriels</span> :**"
   ]
  },
  {
   "cell_type": "code",
   "execution_count": 11,
   "id": "593e057f",
   "metadata": {},
   "outputs": [],
   "source": [
    "# Création d'un impute pour les attributs catégoriels\n",
    "imputer_cat = SimpleImputer(strategy=\"most_frequent\")\n",
    "\n",
    "# Sélection\n",
    "categorical_cols = df.select_dtypes(include=['object']).columns\n",
    "\n",
    "# Application de l'impute sur les colonnes catégorielles\n",
    "df[categorical_cols] = imputer_cat.fit_transform(df[categorical_cols])\n"
   ]
  },
  {
   "cell_type": "markdown",
   "id": "c06a5786",
   "metadata": {},
   "source": [
    "**Supprimer `music_genre`, pour que le modèle ne soit pas influencé par cette colonne**"
   ]
  },
  {
   "cell_type": "code",
   "execution_count": 12,
   "id": "1efee501",
   "metadata": {},
   "outputs": [],
   "source": [
    "# Supprimer la colonne 'music_genre' et la stocker dans une variable séparée\n",
    "labels = df['music_genre'].copy()\n",
    "df = df.drop('music_genre', axis=1)\n"
   ]
  },
  {
   "cell_type": "markdown",
   "id": "eb26fa59",
   "metadata": {},
   "source": [
    "**Suppression des Colonnes Inutiles**\n"
   ]
  },
  {
   "cell_type": "code",
   "execution_count": 13,
   "id": "23b6af89",
   "metadata": {},
   "outputs": [],
   "source": [
    "df.drop(['artist_name', 'track_name', 'obtained_date'], axis=1, inplace=True)"
   ]
  },
  {
   "cell_type": "markdown",
   "id": "32602d10",
   "metadata": {},
   "source": [
    "**Convertir tempo en Type Numérique**"
   ]
  },
  {
   "cell_type": "code",
   "execution_count": 14,
   "id": "8bbfa9e3",
   "metadata": {},
   "outputs": [],
   "source": [
    "df['tempo'] = pd.to_numeric(df['tempo'], errors='coerce')"
   ]
  },
  {
   "cell_type": "markdown",
   "id": "c079c017",
   "metadata": {},
   "source": [
    ">La colonne `tempo` contient des valeurs numériques, mais elle est stockée en tant que type objet,"
   ]
  },
  {
   "cell_type": "markdown",
   "id": "7b111516",
   "metadata": {},
   "source": [
    "**Encodage des Données Catégorielles**"
   ]
  },
  {
   "cell_type": "code",
   "execution_count": 15,
   "id": "0b905f16",
   "metadata": {
    "scrolled": true
   },
   "outputs": [
    {
     "data": {
      "text/html": [
       "<div>\n",
       "<style scoped>\n",
       "    .dataframe tbody tr th:only-of-type {\n",
       "        vertical-align: middle;\n",
       "    }\n",
       "\n",
       "    .dataframe tbody tr th {\n",
       "        vertical-align: top;\n",
       "    }\n",
       "\n",
       "    .dataframe thead th {\n",
       "        text-align: right;\n",
       "    }\n",
       "</style>\n",
       "<table border=\"1\" class=\"dataframe\">\n",
       "  <thead>\n",
       "    <tr style=\"text-align: right;\">\n",
       "      <th></th>\n",
       "      <th>instance_id</th>\n",
       "      <th>popularity</th>\n",
       "      <th>acousticness</th>\n",
       "      <th>danceability</th>\n",
       "      <th>duration_ms</th>\n",
       "      <th>energy</th>\n",
       "      <th>instrumentalness</th>\n",
       "      <th>liveness</th>\n",
       "      <th>loudness</th>\n",
       "      <th>speechiness</th>\n",
       "      <th>...</th>\n",
       "      <th>key_C</th>\n",
       "      <th>key_C#</th>\n",
       "      <th>key_D</th>\n",
       "      <th>key_D#</th>\n",
       "      <th>key_E</th>\n",
       "      <th>key_F</th>\n",
       "      <th>key_F#</th>\n",
       "      <th>key_G</th>\n",
       "      <th>key_G#</th>\n",
       "      <th>mode_Minor</th>\n",
       "    </tr>\n",
       "  </thead>\n",
       "  <tbody>\n",
       "    <tr>\n",
       "      <th>0</th>\n",
       "      <td>32894.0</td>\n",
       "      <td>27.0</td>\n",
       "      <td>0.00468</td>\n",
       "      <td>0.652</td>\n",
       "      <td>-1.0</td>\n",
       "      <td>0.941</td>\n",
       "      <td>0.79200</td>\n",
       "      <td>0.115</td>\n",
       "      <td>-5.201</td>\n",
       "      <td>0.0748</td>\n",
       "      <td>...</td>\n",
       "      <td>0</td>\n",
       "      <td>0</td>\n",
       "      <td>0</td>\n",
       "      <td>0</td>\n",
       "      <td>0</td>\n",
       "      <td>0</td>\n",
       "      <td>0</td>\n",
       "      <td>0</td>\n",
       "      <td>0</td>\n",
       "      <td>1</td>\n",
       "    </tr>\n",
       "    <tr>\n",
       "      <th>1</th>\n",
       "      <td>46652.0</td>\n",
       "      <td>31.0</td>\n",
       "      <td>0.01270</td>\n",
       "      <td>0.622</td>\n",
       "      <td>218293.0</td>\n",
       "      <td>0.890</td>\n",
       "      <td>0.95000</td>\n",
       "      <td>0.124</td>\n",
       "      <td>-7.043</td>\n",
       "      <td>0.0300</td>\n",
       "      <td>...</td>\n",
       "      <td>0</td>\n",
       "      <td>0</td>\n",
       "      <td>1</td>\n",
       "      <td>0</td>\n",
       "      <td>0</td>\n",
       "      <td>0</td>\n",
       "      <td>0</td>\n",
       "      <td>0</td>\n",
       "      <td>0</td>\n",
       "      <td>1</td>\n",
       "    </tr>\n",
       "    <tr>\n",
       "      <th>2</th>\n",
       "      <td>30097.0</td>\n",
       "      <td>28.0</td>\n",
       "      <td>0.00306</td>\n",
       "      <td>0.620</td>\n",
       "      <td>215613.0</td>\n",
       "      <td>0.755</td>\n",
       "      <td>0.01180</td>\n",
       "      <td>0.534</td>\n",
       "      <td>-4.617</td>\n",
       "      <td>0.0345</td>\n",
       "      <td>...</td>\n",
       "      <td>0</td>\n",
       "      <td>0</td>\n",
       "      <td>0</td>\n",
       "      <td>0</td>\n",
       "      <td>0</td>\n",
       "      <td>0</td>\n",
       "      <td>0</td>\n",
       "      <td>0</td>\n",
       "      <td>1</td>\n",
       "      <td>0</td>\n",
       "    </tr>\n",
       "    <tr>\n",
       "      <th>3</th>\n",
       "      <td>62177.0</td>\n",
       "      <td>34.0</td>\n",
       "      <td>0.02540</td>\n",
       "      <td>0.774</td>\n",
       "      <td>166875.0</td>\n",
       "      <td>0.700</td>\n",
       "      <td>0.00253</td>\n",
       "      <td>0.157</td>\n",
       "      <td>-4.498</td>\n",
       "      <td>0.2390</td>\n",
       "      <td>...</td>\n",
       "      <td>0</td>\n",
       "      <td>1</td>\n",
       "      <td>0</td>\n",
       "      <td>0</td>\n",
       "      <td>0</td>\n",
       "      <td>0</td>\n",
       "      <td>0</td>\n",
       "      <td>0</td>\n",
       "      <td>0</td>\n",
       "      <td>0</td>\n",
       "    </tr>\n",
       "    <tr>\n",
       "      <th>4</th>\n",
       "      <td>24907.0</td>\n",
       "      <td>32.0</td>\n",
       "      <td>0.00465</td>\n",
       "      <td>0.638</td>\n",
       "      <td>222369.0</td>\n",
       "      <td>0.587</td>\n",
       "      <td>0.90900</td>\n",
       "      <td>0.157</td>\n",
       "      <td>-6.266</td>\n",
       "      <td>0.0413</td>\n",
       "      <td>...</td>\n",
       "      <td>0</td>\n",
       "      <td>0</td>\n",
       "      <td>0</td>\n",
       "      <td>0</td>\n",
       "      <td>0</td>\n",
       "      <td>0</td>\n",
       "      <td>1</td>\n",
       "      <td>0</td>\n",
       "      <td>0</td>\n",
       "      <td>0</td>\n",
       "    </tr>\n",
       "  </tbody>\n",
       "</table>\n",
       "<p>5 rows × 24 columns</p>\n",
       "</div>"
      ],
      "text/plain": [
       "   instance_id  popularity  acousticness  danceability  duration_ms  energy  \\\n",
       "0      32894.0        27.0       0.00468         0.652         -1.0   0.941   \n",
       "1      46652.0        31.0       0.01270         0.622     218293.0   0.890   \n",
       "2      30097.0        28.0       0.00306         0.620     215613.0   0.755   \n",
       "3      62177.0        34.0       0.02540         0.774     166875.0   0.700   \n",
       "4      24907.0        32.0       0.00465         0.638     222369.0   0.587   \n",
       "\n",
       "   instrumentalness  liveness  loudness  speechiness  ...  key_C  key_C#  \\\n",
       "0           0.79200     0.115    -5.201       0.0748  ...      0       0   \n",
       "1           0.95000     0.124    -7.043       0.0300  ...      0       0   \n",
       "2           0.01180     0.534    -4.617       0.0345  ...      0       0   \n",
       "3           0.00253     0.157    -4.498       0.2390  ...      0       1   \n",
       "4           0.90900     0.157    -6.266       0.0413  ...      0       0   \n",
       "\n",
       "   key_D  key_D#  key_E  key_F  key_F#  key_G  key_G#  mode_Minor  \n",
       "0      0       0      0      0       0      0       0           1  \n",
       "1      1       0      0      0       0      0       0           1  \n",
       "2      0       0      0      0       0      0       1           0  \n",
       "3      0       0      0      0       0      0       0           0  \n",
       "4      0       0      0      0       1      0       0           0  \n",
       "\n",
       "[5 rows x 24 columns]"
      ]
     },
     "execution_count": 15,
     "metadata": {},
     "output_type": "execute_result"
    }
   ],
   "source": [
    "df = pd.get_dummies(df, drop_first=True)\n",
    "df.head()\n"
   ]
  },
  {
   "cell_type": "markdown",
   "id": "fb9b56e7",
   "metadata": {},
   "source": [
    "> l'encodage One-Hot créera une nouvelle colonne pour chaque catégorie unique des données catégorielles, avec des 1 et des 0 indiquant la présence d'une catégorie pour chaque observation "
   ]
  },
  {
   "cell_type": "markdown",
   "id": "4bfe0011",
   "metadata": {},
   "source": [
    "## <span style=\"color:rgb(25,25,112)\">K-means model</span>"
   ]
  },
  {
   "cell_type": "markdown",
   "id": "7ef11c61",
   "metadata": {},
   "source": [
    "**Standardisation des données numériques**"
   ]
  },
  {
   "cell_type": "code",
   "execution_count": 16,
   "id": "e2ece54e",
   "metadata": {},
   "outputs": [],
   "source": [
    "# Création d'un objet StandardScaler\n",
    "scaler = StandardScaler()\n",
    "\n",
    "# Application de la standardisation aux caractéristiques numériques\n",
    "df[numerical_cols] = scaler.fit_transform(df[numerical_cols])"
   ]
  },
  {
   "cell_type": "markdown",
   "id": "c9e14c40",
   "metadata": {},
   "source": [
    ">La standardisation des données numériques assure que chaque caractéristique contribue équitablement au modèle, évitant ainsi que les variables à grande échelle dominent indûment le processus d'analyse."
   ]
  },
  {
   "cell_type": "markdown",
   "id": "e82b00f3",
   "metadata": {},
   "source": [
    "**Nombre de clusters**"
   ]
  },
  {
   "cell_type": "code",
   "execution_count": 17,
   "id": "727dfc2d",
   "metadata": {},
   "outputs": [
    {
     "data": {
      "image/png": "[encoded data removed]",
      "text/plain": [
       "<Figure size 640x480 with 1 Axes>"
      ]
     },
     "metadata": {},
     "output_type": "display_data"
    }
   ],
   "source": [
    "# utilisation de la méthode du coude pour trouver le nombre optimal de clusters\n",
    "wcss = []\n",
    "for i in range(1, 11):\n",
    "    kmeans = KMeans(n_clusters=i, init='k-means++', random_state=42)\n",
    "    kmeans.fit(df)\n",
    "    wcss.append(kmeans.inertia_)\n",
    "\n",
    "plt.plot(range(1, 11), wcss)\n",
    "plt.title('Méthode du Coude')\n",
    "plt.xlabel('Nombre de clusters')\n",
    "plt.ylabel('WCSS')\n",
    "plt.show()"
   ]
  },
  {
   "cell_type": "markdown",
   "id": "22621416",
   "metadata": {},
   "source": [
    ">Le coude se situe autour de 2 ou 3 clusters, où la courbe commence à s'aplatir."
   ]
  },
  {
   "cell_type": "markdown",
   "id": "aa59039d",
   "metadata": {},
   "source": [
    "**K-means**"
   ]
  },
  {
   "cell_type": "code",
   "execution_count": 18,
   "id": "0fa1c603",
   "metadata": {},
   "outputs": [],
   "source": [
    "k_optimal = 3 #selon le graphique\n",
    "\n",
    "# Application de K-means avec le nombre de clusters choisi\n",
    "kmeans_final = KMeans(n_clusters=k_optimal, init='k-means++', random_state=42)\n",
    "kmeans_final.fit(df)\n",
    "\n",
    "# Les étiquettes de cluster pour chaque point de données\n",
    "clusters = kmeans_final.labels_\n",
    "\n",
    "df['Cluster_Labels'] = clusters"
   ]
  },
  {
   "cell_type": "markdown",
   "id": "3a88a21f",
   "metadata": {},
   "source": [
    "**Distribution des Genres Musicaux par Cluster**"
   ]
  },
  {
   "cell_type": "code",
   "execution_count": 19,
   "id": "1492e213",
   "metadata": {},
   "outputs": [
    {
     "data": {
      "image/png": "[encoded data removed]",
      "text/plain": [
       "<Figure size 1400x700 with 1 Axes>"
      ]
     },
     "metadata": {},
     "output_type": "display_data"
    }
   ],
   "source": [
    "# labels' contient vos genres musicaux et que 'clusters' contient les étiquettes de clusters\n",
    "visualization_df = pd.DataFrame({'Cluster_Labels': clusters, 'Music_Genre': labels})\n",
    "\n",
    "# Créer un tableau croisé pour compter les genres par cluster\n",
    "cluster_genre_counts = pd.crosstab(visualization_df['Cluster_Labels'], visualization_df['Music_Genre'])\n",
    "\n",
    "# Utiliser un graphique à barres empilées pour visualiser les résultats\n",
    "cluster_genre_counts.plot(kind='bar', stacked=True, figsize=(14, 7))\n",
    "\n",
    "# Ajouter des titres et des légendes\n",
    "plt.title('Distribution des Genres Musicaux par Cluster')\n",
    "plt.xlabel('Cluster')\n",
    "plt.ylabel('Nombre de Pistes')\n",
    "plt.legend(title='Genre Musical', bbox_to_anchor=(1.05, 1), loc='upper left')\n",
    "\n",
    "# Afficher le graphique\n",
    "plt.tight_layout()\n",
    "plt.show()\n"
   ]
  },
  {
   "cell_type": "markdown",
   "id": "5cf4e4ce",
   "metadata": {},
   "source": [
    "**Score Silhouette**"
   ]
  },
  {
   "cell_type": "code",
   "execution_count": 20,
   "id": "4f11f493",
   "metadata": {
    "scrolled": true
   },
   "outputs": [
    {
     "name": "stdout",
     "output_type": "stream",
     "text": [
      "Le score moyen de silhouette est : 0.5540550990163203\n"
     ]
    }
   ],
   "source": [
    "silhouette_avg = silhouette_score(df.drop('Cluster_Labels', axis=1), df['Cluster_Labels'])\n",
    "print(f\"Le score moyen de silhouette est : {silhouette_avg}\")\n"
   ]
  },
  {
   "cell_type": "markdown",
   "id": "75013115",
   "metadata": {},
   "source": [
    ">Avec un score moyen de silhouette de 0.554, l'algorithme K-means a formé des clusters bien définis, indiquant une bonne séparation entre les clusters et une cohérence interne satisfaisante. Ce score suggère que les points sont généralement bien groupés.\n",
    "\n",
    "<ul>\n",
    "    <li>k=2  : 0.5250511154850809</li>\n",
    "    <li>k=3  : 0.5540550990163203</li>\n",
    "    <li>k=4  : 0.5233961290457287</li>\n",
    "    <li>k=5  : 0.5047728852899933</li>\n",
    "    <li>k=10 : 0.4030517955757374</li>\n",
    "</ul>\n"
   ]
  },
  {
   "cell_type": "markdown",
   "id": "02baca98",
   "metadata": {},
   "source": [
    "## <span style=\"color:rgb(25,25,112)\">Matrice de confusion</span>"
   ]
  },
  {
   "cell_type": "markdown",
   "id": "9003ec02",
   "metadata": {},
   "source": [
    "**Rajouter les genres musicaux au DataFrame**"
   ]
  },
  {
   "cell_type": "code",
   "execution_count": 21,
   "id": "25284594",
   "metadata": {},
   "outputs": [],
   "source": [
    "df['music_genre'] = labels"
   ]
  },
  {
   "cell_type": "markdown",
   "id": "83d5dbd5",
   "metadata": {},
   "source": [
    "**Nombre de titres dans chaque cluster par genre musical**"
   ]
  },
  {
   "cell_type": "code",
   "execution_count": 22,
   "id": "f914c4cd",
   "metadata": {},
   "outputs": [
    {
     "data": {
      "text/html": [
       "<div>\n",
       "<style scoped>\n",
       "    .dataframe tbody tr th:only-of-type {\n",
       "        vertical-align: middle;\n",
       "    }\n",
       "\n",
       "    .dataframe tbody tr th {\n",
       "        vertical-align: top;\n",
       "    }\n",
       "\n",
       "    .dataframe thead th {\n",
       "        text-align: right;\n",
       "    }\n",
       "</style>\n",
       "<table border=\"1\" class=\"dataframe\">\n",
       "  <thead>\n",
       "    <tr style=\"text-align: right;\">\n",
       "      <th>music_genre</th>\n",
       "      <th>Alternative</th>\n",
       "      <th>Anime</th>\n",
       "      <th>Blues</th>\n",
       "      <th>Classical</th>\n",
       "      <th>Country</th>\n",
       "      <th>Electronic</th>\n",
       "      <th>Hip-Hop</th>\n",
       "      <th>Jazz</th>\n",
       "      <th>Rap</th>\n",
       "      <th>Rock</th>\n",
       "    </tr>\n",
       "    <tr>\n",
       "      <th>Cluster_Labels</th>\n",
       "      <th></th>\n",
       "      <th></th>\n",
       "      <th></th>\n",
       "      <th></th>\n",
       "      <th></th>\n",
       "      <th></th>\n",
       "      <th></th>\n",
       "      <th></th>\n",
       "      <th></th>\n",
       "      <th></th>\n",
       "    </tr>\n",
       "  </thead>\n",
       "  <tbody>\n",
       "    <tr>\n",
       "      <th>0</th>\n",
       "      <td>2272</td>\n",
       "      <td>2181</td>\n",
       "      <td>2376</td>\n",
       "      <td>1868</td>\n",
       "      <td>2352</td>\n",
       "      <td>2737</td>\n",
       "      <td>2167</td>\n",
       "      <td>1955</td>\n",
       "      <td>2256</td>\n",
       "      <td>2406</td>\n",
       "    </tr>\n",
       "    <tr>\n",
       "      <th>1</th>\n",
       "      <td>1575</td>\n",
       "      <td>1430</td>\n",
       "      <td>1592</td>\n",
       "      <td>2648</td>\n",
       "      <td>1419</td>\n",
       "      <td>1075</td>\n",
       "      <td>1782</td>\n",
       "      <td>2362</td>\n",
       "      <td>1707</td>\n",
       "      <td>1498</td>\n",
       "    </tr>\n",
       "    <tr>\n",
       "      <th>2</th>\n",
       "      <td>1158</td>\n",
       "      <td>1389</td>\n",
       "      <td>1032</td>\n",
       "      <td>484</td>\n",
       "      <td>1229</td>\n",
       "      <td>1188</td>\n",
       "      <td>1051</td>\n",
       "      <td>683</td>\n",
       "      <td>1037</td>\n",
       "      <td>1096</td>\n",
       "    </tr>\n",
       "  </tbody>\n",
       "</table>\n",
       "</div>"
      ],
      "text/plain": [
       "music_genre     Alternative  Anime  Blues  Classical  Country  Electronic  \\\n",
       "Cluster_Labels                                                              \n",
       "0                      2272   2181   2376       1868     2352        2737   \n",
       "1                      1575   1430   1592       2648     1419        1075   \n",
       "2                      1158   1389   1032        484     1229        1188   \n",
       "\n",
       "music_genre     Hip-Hop  Jazz   Rap  Rock  \n",
       "Cluster_Labels                             \n",
       "0                  2167  1955  2256  2406  \n",
       "1                  1782  2362  1707  1498  \n",
       "2                  1051   683  1037  1096  "
      ]
     },
     "execution_count": 22,
     "metadata": {},
     "output_type": "execute_result"
    }
   ],
   "source": [
    "# Créer un DataFrame qui combine les labels de clusters et les genres musicaux\n",
    "combined_df = pd.concat([df['Cluster_Labels'], labels], axis=1)\n",
    "\n",
    "# la répartition des genres par cluster\n",
    "genre_by_cluster = pd.crosstab(combined_df['Cluster_Labels'], combined_df['music_genre'])\n",
    "\n",
    "# Affichage\n",
    "genre_by_cluster.head()\n"
   ]
  },
  {
   "cell_type": "markdown",
   "id": "cae24192",
   "metadata": {},
   "source": [
    "> Pour chaque cluster, on prend le genre musical le plus représenté comme étiquette pour ce cluster. Cela va nous aider à construire un dictionnaire de mappage qui pourra ensuite être utilisé pour comparer les étiquettes de cluster avec les genres musicaux réels."
   ]
  },
  {
   "cell_type": "markdown",
   "id": "84ca6927",
   "metadata": {},
   "source": [
    "**Etape 1: Mappage**"
   ]
  },
  {
   "cell_type": "code",
   "execution_count": 23,
   "id": "ff31060f",
   "metadata": {},
   "outputs": [],
   "source": [
    "# Les genres les plus fréquents dans chaque cluster. (voir Out[25])\n",
    "cluster_to_genre = {\n",
    "    0: 'Electronic',\n",
    "    1: 'Classical',\n",
    "    2: 'Anime'\n",
    "}"
   ]
  },
  {
   "cell_type": "markdown",
   "id": "61917169",
   "metadata": {},
   "source": [
    "**Etape 2: Attribution des Genres Prédits selon le Mappage**"
   ]
  },
  {
   "cell_type": "code",
   "execution_count": 24,
   "id": "1cdce574",
   "metadata": {},
   "outputs": [],
   "source": [
    "predicted_genres = [cluster_to_genre[cluster] for cluster in clusters]"
   ]
  },
  {
   "cell_type": "markdown",
   "id": "1fe9b2bb",
   "metadata": {},
   "source": [
    "**Etape 3: Création de la Matrice de Confusion**"
   ]
  },
  {
   "cell_type": "code",
   "execution_count": 25,
   "id": "5c3f30a4",
   "metadata": {
    "scrolled": false
   },
   "outputs": [
    {
     "name": "stdout",
     "output_type": "stream",
     "text": [
      "            Electronic  Classical  Anime\n",
      "Electronic        2737       1075   1188\n",
      "Classical         1868       2648    484\n",
      "Anime             2181       1430   1389\n"
     ]
    }
   ],
   "source": [
    "from sklearn.metrics import confusion_matrix\n",
    "import pandas as pd\n",
    "\n",
    "true_genres = df['music_genre'][df.index]\n",
    "\n",
    "# Calculer la matrice de confusion\n",
    "conf_matrix = confusion_matrix(true_genres, predicted_genres, labels=list(cluster_to_genre.values()))\n",
    "\n",
    "# Créer le DataFrame pour la matrice de confusion pour une meilleure lisibilité\n",
    "conf_matrix_df = pd.DataFrame(\n",
    "    conf_matrix,\n",
    "    index=cluster_to_genre.values(),  # Les genres musicaux réels (prédits) comme index\n",
    "    columns=cluster_to_genre.values()  # Les genres musicaux prédits comme colonnes\n",
    ")\n",
    "\n",
    "print(conf_matrix_df)\n"
   ]
  },
  {
   "cell_type": "markdown",
   "id": "af28c128",
   "metadata": {},
   "source": [
    "<!DOCTYPE html>\n",
    "<html lang=\"fr\">\n",
    "<head>\n",
    "    <meta charset=\"UTF-8\">\n",
    "    <meta name=\"viewport\" content=\"width=device-width, initial-scale=1.0\">\n",
    "    <style>\n",
    "        body { font-family: Arial, sans-serif; margin: 20px; }\n",
    "        table { border-collapse: collapse; width: 60%; }\n",
    "        table, th, td { border: 1px solid black; }\n",
    "        th, td { padding: 8px; text-align: left; }\n",
    "        th { background-color: #f2f2f2; }\n",
    "    </style>\n",
    "</head>\n",
    "<body>\n",
    "    <h2 style=\"color:rgb(25,25,112)\"> Interprétation du Clustering des Genres Musicaux</h2>\n",
    "    <p>\n",
    "        Dans notre étude, nous avons associé à chaque cluster, un genre musical spécifique en fonction du genre le plus fréquent\n",
    "        au sein du cluster. Les genres musicaux considérés étaient \"Electronic\", \"Classical\", et \"Anime\".\n",
    "    </p>\n",
    "    <p>\n",
    "        La matrice de confusion suivante montre comment les morceaux de musique ont été classés dans les clusters\n",
    "        et comment ces clusters ont été mappés aux genres musicaux prédits :\n",
    "    </p>\n",
    "    <table>\n",
    "        <tr>\n",
    "            <th>Genre Réel / Prédit</th>\n",
    "            <th>Electronic</th>\n",
    "            <th>Classical</th>\n",
    "            <th>Anime</th>\n",
    "        </tr>\n",
    "        <tr>\n",
    "            <td>Electronic</td>\n",
    "            <td>2737</td>\n",
    "            <td>1075</td>\n",
    "            <td>1188</td>\n",
    "        </tr>\n",
    "        <tr>\n",
    "            <td>Classical</td>\n",
    "            <td>1868</td>\n",
    "            <td>2648</td>\n",
    "            <td>484</td>\n",
    "        </tr>\n",
    "        <tr>\n",
    "            <td>Anime</td>\n",
    "            <td>2181</td>\n",
    "            <td>1430</td>\n",
    "            <td>1389</td>\n",
    "        </tr>\n",
    "    </table>\n",
    "    <p>\n",
    "        L'analyse de cette matrice révèle que le modèle a relativement bien performé pour classifier les morceaux\n",
    "        \"Electronic\" et \"Classical\". Cependant, il y a eu des confusions notables, notamment entre \"Electronic\"\n",
    "        et \"Anime\", ainsi qu'entre \"Electronic\" et \"Classical\".\n",
    "    </p>\n",
    "    <h3 style=\"color:rgb(25,25,112)\">Exemple \"Electronic\"</h3>\n",
    "    <ul>\n",
    "        <li>2737 morceaux \"Electronic\" ont été correctement prédits comme \"Electronic\".</li>\n",
    "        <li>1075 morceaux \"Electronic\" ont été prédits à tort comme \"Classical\".</li>\n",
    "        <li>1188 morceaux \"Electronic\" ont été prédits à tort comme \"Anime\".</li>\n",
    "    </ul>\n",
    "\n",
    "</body>\n",
    "</html>\n"
   ]
  },
  {
   "cell_type": "code",
   "execution_count": null,
   "id": "543563e4",
   "metadata": {},
   "outputs": [],
   "source": []
  }
 ],
 "metadata": {
  "kernelspec": {
   "display_name": "Python 3 (ipykernel)",
   "language": "python",
   "name": "python3"
  },
  "language_info": {
   "codemirror_mode": {
    "name": "ipython",
    "version": 3
   },
   "file_extension": ".py",
   "mimetype": "text/x-python",
   "name": "python",
   "nbconvert_exporter": "python",
   "pygments_lexer": "ipython3",
   "version": "3.9.13"
  },
  "widgets": {
   "application/vnd.jupyter.widget-state+json": {
    "state": {},
    "version_major": 2,
    "version_minor": 0
   }
  }
 },
 "nbformat": 4,
 "nbformat_minor": 5
}
